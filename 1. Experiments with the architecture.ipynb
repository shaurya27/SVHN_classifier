{
 "cells": [
  {
   "cell_type": "code",
   "execution_count": 1,
   "metadata": {
    "collapsed": true
   },
   "outputs": [],
   "source": [
    "import numpy as np\n",
    "import pandas as pd\n",
    "import matplotlib.pyplot as plt\n",
    "%matplotlib inline\n",
    "import scipy.io"
   ]
  },
  {
   "cell_type": "markdown",
   "metadata": {},
   "source": [
    "#### Let's load the data"
   ]
  },
  {
   "cell_type": "code",
   "execution_count": 2,
   "metadata": {
    "collapsed": true
   },
   "outputs": [],
   "source": [
    "train = scipy.io.loadmat('train_32x32.mat')\n",
    "test  = scipy.io.loadmat('test_32x32.mat')"
   ]
  },
  {
   "cell_type": "markdown",
   "metadata": {},
   "source": [
    "###### Let's see the keys and the dataset"
   ]
  },
  {
   "cell_type": "code",
   "execution_count": 3,
   "metadata": {},
   "outputs": [
    {
     "data": {
      "text/plain": [
       "dict_keys(['__header__', '__version__', '__globals__', 'X', 'y'])"
      ]
     },
     "execution_count": 3,
     "metadata": {},
     "output_type": "execute_result"
    }
   ],
   "source": [
    "train.keys()"
   ]
  },
  {
   "cell_type": "code",
   "execution_count": 4,
   "metadata": {},
   "outputs": [
    {
     "data": {
      "text/plain": [
       "b'MATLAB 5.0 MAT-file, Platform: GLNXA64, Created on: Mon Dec  5 21:09:26 2011'"
      ]
     },
     "execution_count": 4,
     "metadata": {},
     "output_type": "execute_result"
    }
   ],
   "source": [
    "train['__header__']"
   ]
  },
  {
   "cell_type": "code",
   "execution_count": 5,
   "metadata": {},
   "outputs": [
    {
     "data": {
      "text/plain": [
       "array([[[[ 33,  84,  19, ...,  92, 190, 216],\n",
       "         [ 30,  76,  54, ...,  78, 188, 217],\n",
       "         [ 38,  59, 110, ..., 101, 191, 212]],\n",
       "\n",
       "        [[ 15,  86,  20, ...,  94, 205, 221],\n",
       "         [ 23,  73,  52, ...,  82, 203, 222],\n",
       "         [ 19,  66, 111, ..., 105, 206, 217]],\n",
       "\n",
       "        [[ 15,  77,  25, ..., 114, 220, 226],\n",
       "         [ 17,  78,  57, ..., 101, 218, 227],\n",
       "         [ 19,  56, 116, ..., 125, 220, 221]],\n",
       "\n",
       "        ..., \n",
       "        [[ 72,  90,  65, ..., 200, 229, 200],\n",
       "         [ 65,  78, 144, ..., 201, 231, 199],\n",
       "         [ 56,  69, 223, ..., 203, 224, 191]],\n",
       "\n",
       "        [[ 82,  88,  78, ..., 192, 229, 193],\n",
       "         [ 77,  77, 148, ..., 193, 229, 188],\n",
       "         [ 57,  67, 218, ..., 195, 224, 182]],\n",
       "\n",
       "        [[ 89,  88,  98, ..., 190, 229, 197],\n",
       "         [ 79,  78, 158, ..., 191, 228, 189],\n",
       "         [ 59,  66, 220, ..., 193, 223, 186]]],\n",
       "\n",
       "\n",
       "       [[[ 28,  85,  21, ...,  92, 183, 204],\n",
       "         [ 39,  77,  53, ...,  78, 182, 205],\n",
       "         [ 35,  61, 110, ..., 103, 186, 202]],\n",
       "\n",
       "        [[ 14,  83,  19, ...,  93, 200, 210],\n",
       "         [ 25,  73,  52, ...,  80, 199, 211],\n",
       "         [ 22,  64, 106, ..., 106, 201, 208]],\n",
       "\n",
       "        [[ 14,  74,  25, ..., 111, 218, 220],\n",
       "         [ 20,  69,  56, ...,  98, 217, 221],\n",
       "         [ 17,  59, 111, ..., 124, 218, 217]],\n",
       "\n",
       "        ..., \n",
       "        [[ 40,  89,  63, ..., 181, 227, 201],\n",
       "         [ 39,  82, 137, ..., 180, 228, 199],\n",
       "         [ 50,  64, 208, ..., 184, 223, 193]],\n",
       "\n",
       "        [[ 67,  88,  91, ..., 177, 227, 195],\n",
       "         [ 58,  79, 153, ..., 176, 226, 191],\n",
       "         [ 52,  70, 214, ..., 180, 222, 186]],\n",
       "\n",
       "        [[ 83,  88, 130, ..., 183, 228, 196],\n",
       "         [ 78,  81, 180, ..., 182, 224, 190],\n",
       "         [ 60,  67, 229, ..., 187, 221, 186]]],\n",
       "\n",
       "\n",
       "       [[[ 40,  83,  21, ...,  99, 171, 198],\n",
       "         [ 41,  76,  53, ...,  84, 170, 198],\n",
       "         [ 38,  60, 110, ..., 112, 175, 197]],\n",
       "\n",
       "        [[ 18,  78,  20, ...,  94, 189, 202],\n",
       "         [ 21,  77,  51, ...,  81, 189, 202],\n",
       "         [ 26,  58, 106, ..., 110, 193, 201]],\n",
       "\n",
       "        [[ 16,  61,  22, ..., 107, 213, 212],\n",
       "         [ 17,  50,  52, ...,  94, 213, 211],\n",
       "         [ 23,  54, 106, ..., 123, 215, 210]],\n",
       "\n",
       "        ..., \n",
       "        [[ 23,  90,  79, ..., 167, 231, 203],\n",
       "         [ 29,  85, 147, ..., 166, 230, 200],\n",
       "         [ 45,  63, 210, ..., 171, 226, 196]],\n",
       "\n",
       "        [[ 35,  88, 125, ..., 172, 229, 198],\n",
       "         [ 42,  83, 181, ..., 171, 226, 194],\n",
       "         [ 44,  66, 230, ..., 176, 223, 191]],\n",
       "\n",
       "        [[ 72,  85, 178, ..., 185, 227, 195],\n",
       "         [ 69,  82, 218, ..., 184, 223, 190],\n",
       "         [ 53,  70, 254, ..., 189, 220, 187]]],\n",
       "\n",
       "\n",
       "       ..., \n",
       "       [[[ 86, 100,  88, ...,  99, 187, 233],\n",
       "         [ 81,  98, 162, ...,  94, 185, 226],\n",
       "         [ 75,  72, 237, ..., 110, 186, 228]],\n",
       "\n",
       "        [[ 87,  98,  89, ...,  96, 204, 230],\n",
       "         [ 82,  94, 163, ...,  91, 202, 224],\n",
       "         [ 71,  76, 238, ..., 109, 199, 225]],\n",
       "\n",
       "        [[ 82,  95,  84, ..., 108, 217, 228],\n",
       "         [ 79,  93, 156, ..., 103, 217, 223],\n",
       "         [ 65,  73, 230, ..., 124, 210, 221]],\n",
       "\n",
       "        ..., \n",
       "        [[104, 104,  62, ..., 210, 204, 198],\n",
       "         [104, 104, 142, ..., 207, 200, 196],\n",
       "         [ 87,  86, 227, ..., 204, 195, 190]],\n",
       "\n",
       "        [[104, 102,  67, ..., 206, 196, 184],\n",
       "         [105, 102, 144, ..., 202, 193, 183],\n",
       "         [ 81,  87, 226, ..., 200, 189, 177]],\n",
       "\n",
       "        [[103, 100,  74, ..., 203, 196, 189],\n",
       "         [105, 101, 145, ..., 197, 193, 187],\n",
       "         [ 78,  78, 225, ..., 199, 189, 182]]],\n",
       "\n",
       "\n",
       "       [[[ 84, 103,  88, ...,  94, 186, 231],\n",
       "         [ 86, 104, 164, ...,  91, 184, 226],\n",
       "         [ 64,  79, 240, ..., 103, 185, 228]],\n",
       "\n",
       "        [[ 86, 106,  87, ...,  94, 198, 229],\n",
       "         [ 79, 104, 160, ...,  91, 197, 224],\n",
       "         [ 72,  79, 237, ..., 104, 194, 225]],\n",
       "\n",
       "        [[ 82, 103,  88, ..., 110, 211, 227],\n",
       "         [ 76, 103, 159, ..., 107, 211, 223],\n",
       "         [ 72,  87, 237, ..., 121, 204, 222]],\n",
       "\n",
       "        ..., \n",
       "        [[110, 103,  60, ..., 219, 222, 195],\n",
       "         [103, 104, 141, ..., 218, 216, 194],\n",
       "         [ 84,  86, 230, ..., 215, 212, 186]],\n",
       "\n",
       "        [[106, 103,  61, ..., 218, 214, 181],\n",
       "         [105, 103, 141, ..., 215, 209, 181],\n",
       "         [ 85,  87, 228, ..., 212, 205, 173]],\n",
       "\n",
       "        [[106, 105,  65, ..., 212, 208, 186],\n",
       "         [104,  99, 143, ..., 209, 205, 183],\n",
       "         [ 86,  81, 226, ..., 209, 200, 177]]],\n",
       "\n",
       "\n",
       "       [[[ 85, 103,  84, ...,  88, 190, 230],\n",
       "         [ 88, 106, 160, ...,  87, 188, 226],\n",
       "         [ 68,  82, 238, ...,  94, 190, 227]],\n",
       "\n",
       "        [[ 89, 103,  81, ...,  85, 199, 230],\n",
       "         [ 82, 105, 154, ...,  84, 197, 226],\n",
       "         [ 72,  87, 233, ...,  93, 194, 227]],\n",
       "\n",
       "        [[ 85, 104,  87, ..., 105, 208, 229],\n",
       "         [ 79, 106, 158, ..., 103, 208, 225],\n",
       "         [ 67,  91, 238, ..., 114, 201, 226]],\n",
       "\n",
       "        ..., \n",
       "        [[111, 113,  63, ..., 217, 232, 190],\n",
       "         [104, 103, 144, ..., 217, 227, 190],\n",
       "         [ 87,  88, 235, ..., 214, 223, 181]],\n",
       "\n",
       "        [[109, 104,  62, ..., 221, 226, 178],\n",
       "         [105, 104, 143, ..., 220, 221, 177],\n",
       "         [ 86,  88, 232, ..., 219, 216, 169]],\n",
       "\n",
       "        [[103, 103,  63, ..., 218, 218, 181],\n",
       "         [106,  98, 145, ..., 217, 213, 178],\n",
       "         [ 79,  80, 231, ..., 218, 209, 171]]]], dtype=uint8)"
      ]
     },
     "execution_count": 5,
     "metadata": {},
     "output_type": "execute_result"
    }
   ],
   "source": [
    "train['X']"
   ]
  },
  {
   "cell_type": "code",
   "execution_count": 6,
   "metadata": {},
   "outputs": [
    {
     "data": {
      "text/plain": [
       "array([[1],\n",
       "       [9],\n",
       "       [2],\n",
       "       ..., \n",
       "       [1],\n",
       "       [6],\n",
       "       [9]], dtype=uint8)"
      ]
     },
     "execution_count": 6,
     "metadata": {},
     "output_type": "execute_result"
    }
   ],
   "source": [
    "train['y']"
   ]
  },
  {
   "cell_type": "code",
   "execution_count": 7,
   "metadata": {},
   "outputs": [
    {
     "name": "stdout",
     "output_type": "stream",
     "text": [
      "shape of images in train dataset is (32, 32, 3, 73257) and target feature is (73257, 1)\n"
     ]
    }
   ],
   "source": [
    "print(\"shape of images in train dataset is {} and target feature is {}\".format(train['X'].shape, train['y'].shape))"
   ]
  },
  {
   "cell_type": "code",
   "execution_count": 8,
   "metadata": {},
   "outputs": [
    {
     "name": "stdout",
     "output_type": "stream",
     "text": [
      "shape of images in test dataset is (32, 32, 3, 26032) \n"
     ]
    }
   ],
   "source": [
    "print(\"shape of images in test dataset is {} \".format(test['X'].shape))"
   ]
  },
  {
   "cell_type": "markdown",
   "metadata": {},
   "source": [
    "#### Lets change the dimensions of an array"
   ]
  },
  {
   "cell_type": "code",
   "execution_count": 9,
   "metadata": {
    "collapsed": true
   },
   "outputs": [],
   "source": [
    "train['X'] = train['X'][np.newaxis,...]\n",
    "train_data = np.swapaxes(train['X'],0,4).squeeze()\n",
    "\n",
    "test['X'] = test['X'][np.newaxis,...]\n",
    "test_data = np.swapaxes(test['X'],0,4).squeeze()"
   ]
  },
  {
   "cell_type": "code",
   "execution_count": 10,
   "metadata": {},
   "outputs": [
    {
     "data": {
      "text/plain": [
       "(73257, 32, 32, 3)"
      ]
     },
     "execution_count": 10,
     "metadata": {},
     "output_type": "execute_result"
    }
   ],
   "source": [
    "train_data.shape"
   ]
  },
  {
   "cell_type": "markdown",
   "metadata": {},
   "source": [
    "----------------------------------------------"
   ]
  },
  {
   "cell_type": "markdown",
   "metadata": {},
   "source": [
    "#### Let's see some images"
   ]
  },
  {
   "cell_type": "code",
   "execution_count": 11,
   "metadata": {},
   "outputs": [
    {
     "data": {
      "image/png": "[encoded data removed]",
      "text/plain": [
       "<matplotlib.figure.Figure at 0xfdbe241390>"
      ]
     },
     "metadata": {},
     "output_type": "display_data"
    },
    {
     "data": {
      "image/png": "[encoded data removed]",
      "text/plain": [
       "<matplotlib.figure.Figure at 0xfdbb915f98>"
      ]
     },
     "metadata": {},
     "output_type": "display_data"
    },
    {
     "data": {
      "image/png": "[encoded data removed]",
      "text/plain": [
       "<matplotlib.figure.Figure at 0xfdd06dfa20>"
      ]
     },
     "metadata": {},
     "output_type": "display_data"
    },
    {
     "data": {
      "image/png": "[encoded data removed]",
      "text/plain": [
       "<matplotlib.figure.Figure at 0xfdd058d160>"
      ]
     },
     "metadata": {},
     "output_type": "display_data"
    },
    {
     "data": {
      "image/png": "[encoded data removed]",
      "text/plain": [
       "<matplotlib.figure.Figure at 0xfdd06110b8>"
      ]
     },
     "metadata": {},
     "output_type": "display_data"
    }
   ],
   "source": [
    "for i in range(5):\n",
    "    plt.imshow(train_data[i],interpolation='nearest')\n",
    "    plt.show()"
   ]
  },
  {
   "cell_type": "markdown",
   "metadata": {},
   "source": [
    "###### Let's rescale the array"
   ]
  },
  {
   "cell_type": "code",
   "execution_count": 12,
   "metadata": {
    "collapsed": true
   },
   "outputs": [],
   "source": [
    "train_data = train_data.astype('float32')\n",
    "test_data = test_data.astype('float32')"
   ]
  },
  {
   "cell_type": "code",
   "execution_count": 13,
   "metadata": {
    "collapsed": true
   },
   "outputs": [],
   "source": [
    "train_data /= 255.0\n",
    "test_data /= 255.0"
   ]
  },
  {
   "cell_type": "markdown",
   "metadata": {},
   "source": [
    "#### convert color image to grayscle"
   ]
  },
  {
   "cell_type": "code",
   "execution_count": 14,
   "metadata": {
    "collapsed": true
   },
   "outputs": [],
   "source": [
    "def rgb2gray(rgb):\n",
    "    return np.dot(rgb[...,:3], [0.299, 0.587, 0.114])"
   ]
  },
  {
   "cell_type": "code",
   "execution_count": 15,
   "metadata": {
    "collapsed": true
   },
   "outputs": [],
   "source": [
    "X_train = np.zeros((73257, 32, 32))\n",
    "for i in range(train_data.shape[0]):\n",
    "    X_train[i] = rgb2gray(train_data[i])"
   ]
  },
  {
   "cell_type": "code",
   "execution_count": 16,
   "metadata": {},
   "outputs": [
    {
     "data": {
      "text/plain": [
       "(73257, 32, 32)"
      ]
     },
     "execution_count": 16,
     "metadata": {},
     "output_type": "execute_result"
    }
   ],
   "source": [
    "X_train.shape"
   ]
  },
  {
   "cell_type": "code",
   "execution_count": 17,
   "metadata": {},
   "outputs": [
    {
     "data": {
      "image/png": "[encoded data removed]",
      "text/plain": [
       "<matplotlib.figure.Figure at 0xfdd0768860>"
      ]
     },
     "metadata": {},
     "output_type": "display_data"
    },
    {
     "data": {
      "image/png": "[encoded data removed]",
      "text/plain": [
       "<matplotlib.figure.Figure at 0xfdd070e550>"
      ]
     },
     "metadata": {},
     "output_type": "display_data"
    },
    {
     "data": {
      "image/png": "[encoded data removed]",
      "text/plain": [
       "<matplotlib.figure.Figure at 0xfdd07704a8>"
      ]
     },
     "metadata": {},
     "output_type": "display_data"
    },
    {
     "data": {
      "image/png": "[encoded data removed]",
      "text/plain": [
       "<matplotlib.figure.Figure at 0xfe3e226ef0>"
      ]
     },
     "metadata": {},
     "output_type": "display_data"
    },
    {
     "data": {
      "image/png": "[encoded data removed]",
      "text/plain": [
       "<matplotlib.figure.Figure at 0xfdd189aa58>"
      ]
     },
     "metadata": {},
     "output_type": "display_data"
    }
   ],
   "source": [
    "for i in range(5):\n",
    "    plt.subplot(221)\n",
    "    plt.imshow(X_train[i],cmap=plt.get_cmap('gray'))\n",
    "    plt.show()"
   ]
  },
  {
   "cell_type": "code",
   "execution_count": 18,
   "metadata": {
    "collapsed": true
   },
   "outputs": [],
   "source": [
    "X_test = np.zeros((26032, 32, 32))\n",
    "for i in range(test_data.shape[0]):\n",
    "    X_test[i] = rgb2gray(test_data[i])"
   ]
  },
  {
   "cell_type": "code",
   "execution_count": 19,
   "metadata": {
    "collapsed": true
   },
   "outputs": [],
   "source": [
    "X_train = X_train.reshape(X_train.shape[0],32, 32, 1)\n",
    "X_test = X_test.reshape(X_test.shape[0], 32, 32, 1)"
   ]
  },
  {
   "cell_type": "markdown",
   "metadata": {},
   "source": [
    "-------------------"
   ]
  },
  {
   "cell_type": "markdown",
   "metadata": {},
   "source": [
    "---------------------------------------"
   ]
  },
  {
   "cell_type": "code",
   "execution_count": 25,
   "metadata": {
    "collapsed": true
   },
   "outputs": [],
   "source": [
    "import keras\n",
    "from keras.layers import Conv2D, MaxPooling2D, Flatten\n",
    "from keras.models import Sequential\n",
    "from keras.layers import Dense, Dropout, Activation\n",
    "from keras.layers import BatchNormalization"
   ]
  },
  {
   "cell_type": "markdown",
   "metadata": {},
   "source": [
    "---------------------------------------"
   ]
  },
  {
   "cell_type": "code",
   "execution_count": 27,
   "metadata": {},
   "outputs": [
    {
     "data": {
      "text/plain": [
       "array([ 1,  2,  3,  4,  5,  6,  7,  8,  9, 10], dtype=uint8)"
      ]
     },
     "execution_count": 27,
     "metadata": {},
     "output_type": "execute_result"
    }
   ],
   "source": [
    "np.unique(train['y'])"
   ]
  },
  {
   "cell_type": "code",
   "execution_count": 32,
   "metadata": {},
   "outputs": [
    {
     "data": {
      "text/plain": [
       "(73257,)"
      ]
     },
     "execution_count": 32,
     "metadata": {},
     "output_type": "execute_result"
    }
   ],
   "source": [
    "train['y'][:,0].shape"
   ]
  },
  {
   "cell_type": "code",
   "execution_count": 37,
   "metadata": {
    "collapsed": true
   },
   "outputs": [],
   "source": [
    "y_train = keras.utils.to_categorical(train['y'][:,0])[:,1:]\n",
    "y_test = keras.utils.to_categorical(test['y'][:,0])[:,1:]"
   ]
  },
  {
   "cell_type": "code",
   "execution_count": 38,
   "metadata": {},
   "outputs": [
    {
     "data": {
      "text/plain": [
       "array([ 1.,  0.,  0.,  0.,  0.,  0.,  0.,  0.,  0.,  0.])"
      ]
     },
     "execution_count": 38,
     "metadata": {},
     "output_type": "execute_result"
    }
   ],
   "source": [
    "y_train[0]"
   ]
  },
  {
   "cell_type": "markdown",
   "metadata": {},
   "source": [
    "##### Let's begin with the simple model for training"
   ]
  },
  {
   "cell_type": "code",
   "execution_count": 39,
   "metadata": {},
   "outputs": [
    {
     "name": "stdout",
     "output_type": "stream",
     "text": [
      "_________________________________________________________________\n",
      "Layer (type)                 Output Shape              Param #   \n",
      "=================================================================\n",
      "conv2d_1 (Conv2D)            (None, 32, 32, 32)        320       \n",
      "_________________________________________________________________\n",
      "activation_1 (Activation)    (None, 32, 32, 32)        0         \n",
      "_________________________________________________________________\n",
      "max_pooling2d_1 (MaxPooling2 (None, 16, 16, 32)        0         \n",
      "_________________________________________________________________\n",
      "conv2d_2 (Conv2D)            (None, 14, 14, 64)        18496     \n",
      "_________________________________________________________________\n",
      "activation_2 (Activation)    (None, 14, 14, 64)        0         \n",
      "_________________________________________________________________\n",
      "max_pooling2d_2 (MaxPooling2 (None, 7, 7, 64)          0         \n",
      "_________________________________________________________________\n",
      "flatten_1 (Flatten)          (None, 3136)              0         \n",
      "_________________________________________________________________\n",
      "dense_1 (Dense)              (None, 128)               401536    \n",
      "_________________________________________________________________\n",
      "activation_3 (Activation)    (None, 128)               0         \n",
      "_________________________________________________________________\n",
      "dense_2 (Dense)              (None, 10)                1290      \n",
      "_________________________________________________________________\n",
      "activation_4 (Activation)    (None, 10)                0         \n",
      "=================================================================\n",
      "Total params: 421,642\n",
      "Trainable params: 421,642\n",
      "Non-trainable params: 0\n",
      "_________________________________________________________________\n"
     ]
    }
   ],
   "source": [
    "model = Sequential()\n",
    "model.add(Conv2D(32, (3,3), strides=(1,1), padding='same', input_shape=(32,32,1)))\n",
    "model.add(Activation('relu'))\n",
    "model.add(MaxPooling2D(pool_size=(2,2), strides=(2,2)))\n",
    "model.add(Conv2D(64, (3,3), strides=(1,1)))\n",
    "model.add(Activation('relu'))\n",
    "model.add(MaxPooling2D(pool_size=(2,2), padding='same', strides=(2,2)))\n",
    "model.add(Flatten())\n",
    "model.add(Dense(128))\n",
    "model.add(Activation('relu'))\n",
    "model.add(Dense(10))\n",
    "model.add(Activation('softmax'))\n",
    "model.summary()"
   ]
  },
  {
   "cell_type": "code",
   "execution_count": 40,
   "metadata": {
    "collapsed": true
   },
   "outputs": [],
   "source": [
    "model.compile(loss='categorical_crossentropy', optimizer='adam' , metrics=['accuracy'])"
   ]
  },
  {
   "cell_type": "code",
   "execution_count": 42,
   "metadata": {},
   "outputs": [
    {
     "name": "stdout",
     "output_type": "stream",
     "text": [
      "Train on 58605 samples, validate on 14652 samples\n",
      "Epoch 1/10\n",
      "58605/58605 [==============================] - 178s - loss: 1.1945 - acc: 0.6167 - val_loss: 0.6691 - val_acc: 0.8209\n",
      "Epoch 2/10\n",
      "58605/58605 [==============================] - 131s - loss: 0.5844 - acc: 0.8344 - val_loss: 0.5588 - val_acc: 0.8483\n",
      "Epoch 3/10\n",
      "58605/58605 [==============================] - 131s - loss: 0.5052 - acc: 0.8565 - val_loss: 0.5111 - val_acc: 0.8555\n",
      "Epoch 4/10\n",
      "58605/58605 [==============================] - 131s - loss: 0.4565 - acc: 0.8691 - val_loss: 0.4822 - val_acc: 0.8614\n",
      "Epoch 5/10\n",
      "58605/58605 [==============================] - 132s - loss: 0.4168 - acc: 0.8809 - val_loss: 0.4635 - val_acc: 0.8678\n",
      "Epoch 6/10\n",
      "58605/58605 [==============================] - 130s - loss: 0.3808 - acc: 0.8909 - val_loss: 0.4307 - val_acc: 0.8763\n",
      "Epoch 7/10\n",
      "58605/58605 [==============================] - 131s - loss: 0.3522 - acc: 0.8973 - val_loss: 0.4060 - val_acc: 0.8842\n",
      "Epoch 8/10\n",
      "58605/58605 [==============================] - 131s - loss: 0.3291 - acc: 0.9055 - val_loss: 0.3979 - val_acc: 0.8864\n",
      "Epoch 9/10\n",
      "58605/58605 [==============================] - 134s - loss: 0.3029 - acc: 0.9121 - val_loss: 0.3918 - val_acc: 0.8898\n",
      "Epoch 10/10\n",
      "58605/58605 [==============================] - 131s - loss: 0.2870 - acc: 0.9167 - val_loss: 0.3916 - val_acc: 0.8923\n"
     ]
    }
   ],
   "source": [
    "history = model.fit(X_train, y_train, batch_size=128, epochs=10, verbose=1, validation_split=0.2)"
   ]
  },
  {
   "cell_type": "code",
   "execution_count": 52,
   "metadata": {},
   "outputs": [
    {
     "name": "stdout",
     "output_type": "stream",
     "text": [
      "loss: 0.429866914056\n",
      "Test accuracy: 0.88233712354\n"
     ]
    }
   ],
   "source": [
    "score = model.evaluate(X_test, y_test, verbose=0)\n",
    "print('loss:', score[0])\n",
    "print('Test accuracy:', score[1])"
   ]
  },
  {
   "cell_type": "code",
   "execution_count": 43,
   "metadata": {},
   "outputs": [
    {
     "data": {
      "text/plain": [
       "dict_keys(['val_loss', 'val_acc', 'loss', 'acc'])"
      ]
     },
     "execution_count": 43,
     "metadata": {},
     "output_type": "execute_result"
    }
   ],
   "source": [
    "history.history.keys()"
   ]
  },
  {
   "cell_type": "code",
   "execution_count": 44,
   "metadata": {},
   "outputs": [
    {
     "data": {
      "image/png": "[encoded data removed]",
      "text/plain": [
       "<matplotlib.figure.Figure at 0xfe4f24e5c0>"
      ]
     },
     "metadata": {},
     "output_type": "display_data"
    },
    {
     "data": {
      "image/png": "[encoded data removed]",
      "text/plain": [
       "<matplotlib.figure.Figure at 0xfe3e237c88>"
      ]
     },
     "metadata": {},
     "output_type": "display_data"
    }
   ],
   "source": [
    "# summarize history for accuracy\n",
    "plt.plot(history.history['acc'])\n",
    "plt.plot(history.history['val_acc'])\n",
    "plt.title('model accuracy')\n",
    "plt.ylabel('accuracy')\n",
    "plt.xlabel('epoch')\n",
    "plt.legend(['train', 'test'], loc='upper left')\n",
    "plt.show()\n",
    "\n",
    "# summarize history for loss\n",
    "plt.plot(history.history['loss'])\n",
    "plt.plot(history.history['val_loss'])\n",
    "plt.title('model loss')\n",
    "plt.ylabel('loss')\n",
    "plt.xlabel('epoch')\n",
    "plt.legend(['train', 'test'], loc='upper left')\n",
    "plt.show()"
   ]
  },
  {
   "cell_type": "markdown",
   "metadata": {},
   "source": [
    "#### The accuracy is increasing but it also starts overfitting. "
   ]
  },
  {
   "cell_type": "markdown",
   "metadata": {},
   "source": [
    "--------------------------------"
   ]
  },
  {
   "cell_type": "markdown",
   "metadata": {},
   "source": [
    "#### So, Let's add one more conv layer to the architecture and use regularization to deal with overfitting "
   ]
  },
  {
   "cell_type": "code",
   "execution_count": 58,
   "metadata": {},
   "outputs": [
    {
     "name": "stdout",
     "output_type": "stream",
     "text": [
      "_________________________________________________________________\n",
      "Layer (type)                 Output Shape              Param #   \n",
      "=================================================================\n",
      "conv2d_15 (Conv2D)           (None, 32, 32, 32)        320       \n",
      "_________________________________________________________________\n",
      "activation_24 (Activation)   (None, 32, 32, 32)        0         \n",
      "_________________________________________________________________\n",
      "max_pooling2d_11 (MaxPooling (None, 16, 16, 32)        0         \n",
      "_________________________________________________________________\n",
      "dropout_4 (Dropout)          (None, 16, 16, 32)        0         \n",
      "_________________________________________________________________\n",
      "conv2d_16 (Conv2D)           (None, 16, 16, 64)        18496     \n",
      "_________________________________________________________________\n",
      "activation_25 (Activation)   (None, 16, 16, 64)        0         \n",
      "_________________________________________________________________\n",
      "conv2d_17 (Conv2D)           (None, 16, 16, 64)        36928     \n",
      "_________________________________________________________________\n",
      "activation_26 (Activation)   (None, 16, 16, 64)        0         \n",
      "_________________________________________________________________\n",
      "max_pooling2d_12 (MaxPooling (None, 8, 8, 64)          0         \n",
      "_________________________________________________________________\n",
      "dropout_5 (Dropout)          (None, 8, 8, 64)          0         \n",
      "_________________________________________________________________\n",
      "flatten_6 (Flatten)          (None, 4096)              0         \n",
      "_________________________________________________________________\n",
      "dense_11 (Dense)             (None, 128)               524416    \n",
      "_________________________________________________________________\n",
      "activation_27 (Activation)   (None, 128)               0         \n",
      "_________________________________________________________________\n",
      "dropout_6 (Dropout)          (None, 128)               0         \n",
      "_________________________________________________________________\n",
      "dense_12 (Dense)             (None, 10)                1290      \n",
      "_________________________________________________________________\n",
      "activation_28 (Activation)   (None, 10)                0         \n",
      "=================================================================\n",
      "Total params: 581,450\n",
      "Trainable params: 581,450\n",
      "Non-trainable params: 0\n",
      "_________________________________________________________________\n"
     ]
    }
   ],
   "source": [
    "model2 = Sequential()\n",
    "model2.add(Conv2D(32, (3,3), strides=(1,1), padding='same', input_shape=(32,32,1)))\n",
    "model2.add(Activation('relu'))\n",
    "model2.add(MaxPooling2D(pool_size=(2,2), strides=(2,2)))\n",
    "model2.add(Dropout(0.3))\n",
    "model2.add(Conv2D(64, (3,3), strides=(1,1),padding='same'))\n",
    "model2.add(Activation('relu'))\n",
    "model2.add(Conv2D(64, (3,3), strides=(1,1),padding='same'))\n",
    "model2.add(Activation('relu'))\n",
    "model2.add(MaxPooling2D(pool_size=(2,2), padding='same', strides=(2,2)))\n",
    "model2.add(Dropout(0.3))\n",
    "model2.add(Flatten())\n",
    "model2.add(Dense(128))\n",
    "model2.add(Activation('relu'))\n",
    "model2.add(Dropout(0.3))\n",
    "model2.add(Dense(10))\n",
    "model2.add(Activation('softmax'))\n",
    "model2.summary()"
   ]
  },
  {
   "cell_type": "code",
   "execution_count": 59,
   "metadata": {
    "collapsed": true
   },
   "outputs": [],
   "source": [
    "model2.compile(loss='categorical_crossentropy', optimizer='adam' , metrics=['accuracy'])"
   ]
  },
  {
   "cell_type": "code",
   "execution_count": 60,
   "metadata": {},
   "outputs": [
    {
     "name": "stdout",
     "output_type": "stream",
     "text": [
      "Train on 58605 samples, validate on 14652 samples\n",
      "Epoch 1/5\n",
      "58605/58605 [==============================] - 343s - loss: 1.5704 - acc: 0.4583 - val_loss: 0.6563 - val_acc: 0.8092\n",
      "Epoch 2/5\n",
      "58605/58605 [==============================] - 339s - loss: 0.7174 - acc: 0.7749 - val_loss: 0.4915 - val_acc: 0.8526\n",
      "Epoch 3/5\n",
      "58605/58605 [==============================] - 341s - loss: 0.5994 - acc: 0.8152 - val_loss: 0.4714 - val_acc: 0.8577\n",
      "Epoch 4/5\n",
      "58605/58605 [==============================] - 336s - loss: 0.5381 - acc: 0.8340 - val_loss: 0.4062 - val_acc: 0.8767\n",
      "Epoch 5/5\n",
      "58605/58605 [==============================] - 336s - loss: 0.5031 - acc: 0.8464 - val_loss: 0.3846 - val_acc: 0.8838\n"
     ]
    }
   ],
   "source": [
    "history2 = model2.fit(X_train, y_train, batch_size=128, epochs=5, verbose=1, validation_split=0.2)"
   ]
  },
  {
   "cell_type": "code",
   "execution_count": 61,
   "metadata": {},
   "outputs": [
    {
     "name": "stdout",
     "output_type": "stream",
     "text": [
      "Train on 58605 samples, validate on 14652 samples\n",
      "Epoch 1/5\n",
      "58605/58605 [==============================] - 341s - loss: 0.4740 - acc: 0.8538 - val_loss: 0.3915 - val_acc: 0.8815\n",
      "Epoch 2/5\n",
      "58605/58605 [==============================] - 342s - loss: 0.4521 - acc: 0.8620 - val_loss: 0.3541 - val_acc: 0.8920\n",
      "Epoch 3/5\n",
      "58605/58605 [==============================] - 340s - loss: 0.4356 - acc: 0.8645 - val_loss: 0.3468 - val_acc: 0.8959\n",
      "Epoch 4/5\n",
      "58605/58605 [==============================] - 340s - loss: 0.4141 - acc: 0.8732 - val_loss: 0.3272 - val_acc: 0.9036\n",
      "Epoch 5/5\n",
      "58605/58605 [==============================] - 343s - loss: 0.3960 - acc: 0.8780 - val_loss: 0.3250 - val_acc: 0.9037\n"
     ]
    }
   ],
   "source": [
    "history2 = model2.fit(X_train, y_train, batch_size=128, epochs=5, verbose=1, validation_split=0.2)"
   ]
  },
  {
   "cell_type": "code",
   "execution_count": 62,
   "metadata": {},
   "outputs": [
    {
     "name": "stdout",
     "output_type": "stream",
     "text": [
      "loss: 0.363948386916\n",
      "Test accuracy: 0.890980331899\n"
     ]
    }
   ],
   "source": [
    "score2 = model2.evaluate(X_test, y_test, verbose=0)\n",
    "print('loss:', score2[0])\n",
    "print('Test accuracy:', score2[1])"
   ]
  },
  {
   "cell_type": "code",
   "execution_count": 63,
   "metadata": {},
   "outputs": [
    {
     "data": {
      "image/png": "[encoded data removed]",
      "text/plain": [
       "<matplotlib.figure.Figure at 0xfe5db57d68>"
      ]
     },
     "metadata": {},
     "output_type": "display_data"
    },
    {
     "data": {
      "image/png": "[encoded data removed]",
      "text/plain": [
       "<matplotlib.figure.Figure at 0xfe4f2cebe0>"
      ]
     },
     "metadata": {},
     "output_type": "display_data"
    }
   ],
   "source": [
    "# summarize history for accuracy\n",
    "plt.plot(history2.history['acc'])\n",
    "plt.plot(history2.history['val_acc'])\n",
    "plt.title('model accuracy')\n",
    "plt.ylabel('accuracy')\n",
    "plt.xlabel('epoch')\n",
    "plt.legend(['train', 'test'], loc='upper left')\n",
    "plt.show()\n",
    "\n",
    "# summarize history for loss\n",
    "plt.plot(history2.history['loss'])\n",
    "plt.plot(history2.history['val_loss'])\n",
    "plt.title('model loss')\n",
    "plt.ylabel('loss')\n",
    "plt.xlabel('epoch')\n",
    "plt.legend(['train', 'test'], loc='upper left')\n",
    "plt.show()"
   ]
  },
  {
   "cell_type": "markdown",
   "metadata": {},
   "source": [
    "##### The model has high validation accuracy than the training accuracy. So, there may be a possible chance that the training samples are more hard than the validation samples.\n",
    "* Let's try to see the effect of decreasing learning rate, to check how it affects my performance"
   ]
  },
  {
   "cell_type": "markdown",
   "metadata": {},
   "source": [
    "-----------------"
   ]
  },
  {
   "cell_type": "markdown",
   "metadata": {},
   "source": [
    "#####  Let's try to use regilarization in very 1st architecture i.e. 'model' with decreasing the learning rates"
   ]
  },
  {
   "cell_type": "code",
   "execution_count": 65,
   "metadata": {},
   "outputs": [
    {
     "name": "stdout",
     "output_type": "stream",
     "text": [
      "_________________________________________________________________\n",
      "Layer (type)                 Output Shape              Param #   \n",
      "=================================================================\n",
      "conv2d_20 (Conv2D)           (None, 32, 32, 32)        320       \n",
      "_________________________________________________________________\n",
      "activation_33 (Activation)   (None, 32, 32, 32)        0         \n",
      "_________________________________________________________________\n",
      "max_pooling2d_15 (MaxPooling (None, 16, 16, 32)        0         \n",
      "_________________________________________________________________\n",
      "dropout_9 (Dropout)          (None, 16, 16, 32)        0         \n",
      "_________________________________________________________________\n",
      "conv2d_21 (Conv2D)           (None, 14, 14, 64)        18496     \n",
      "_________________________________________________________________\n",
      "activation_34 (Activation)   (None, 14, 14, 64)        0         \n",
      "_________________________________________________________________\n",
      "max_pooling2d_16 (MaxPooling (None, 7, 7, 64)          0         \n",
      "_________________________________________________________________\n",
      "dropout_10 (Dropout)         (None, 7, 7, 64)          0         \n",
      "_________________________________________________________________\n",
      "flatten_8 (Flatten)          (None, 3136)              0         \n",
      "_________________________________________________________________\n",
      "dense_15 (Dense)             (None, 128)               401536    \n",
      "_________________________________________________________________\n",
      "activation_35 (Activation)   (None, 128)               0         \n",
      "_________________________________________________________________\n",
      "dropout_11 (Dropout)         (None, 128)               0         \n",
      "_________________________________________________________________\n",
      "dense_16 (Dense)             (None, 10)                1290      \n",
      "_________________________________________________________________\n",
      "activation_36 (Activation)   (None, 10)                0         \n",
      "=================================================================\n",
      "Total params: 421,642\n",
      "Trainable params: 421,642\n",
      "Non-trainable params: 0\n",
      "_________________________________________________________________\n"
     ]
    }
   ],
   "source": [
    "model3 = Sequential()\n",
    "model3.add(Conv2D(32, (3,3), strides=(1,1), padding='same', input_shape=(32,32,1)))\n",
    "model3.add(Activation('relu'))\n",
    "model3.add(MaxPooling2D(pool_size=(2,2), strides=(2,2)))\n",
    "model3.add(Dropout(0.35))\n",
    "model3.add(Conv2D(64, (3,3), strides=(1,1)))\n",
    "model3.add(Activation('relu'))\n",
    "model3.add(MaxPooling2D(pool_size=(2,2), padding='same', strides=(2,2)))\n",
    "model3.add(Dropout(0.35))\n",
    "model3.add(Flatten())\n",
    "model3.add(Dense(128))\n",
    "model3.add(Activation('relu'))\n",
    "model3.add(Dropout(0.35))\n",
    "model3.add(Dense(10))\n",
    "model3.add(Activation('softmax'))\n",
    "model3.summary()"
   ]
  },
  {
   "cell_type": "code",
   "execution_count": 68,
   "metadata": {
    "collapsed": true
   },
   "outputs": [],
   "source": [
    "from keras.optimizers import Adam"
   ]
  },
  {
   "cell_type": "code",
   "execution_count": 69,
   "metadata": {
    "collapsed": true
   },
   "outputs": [],
   "source": [
    "adam = Adam(lr=0.001)"
   ]
  },
  {
   "cell_type": "code",
   "execution_count": 70,
   "metadata": {
    "collapsed": true
   },
   "outputs": [],
   "source": [
    "model3.compile(loss='categorical_crossentropy', optimizer=adam , metrics=['accuracy'])"
   ]
  },
  {
   "cell_type": "code",
   "execution_count": 71,
   "metadata": {},
   "outputs": [
    {
     "name": "stdout",
     "output_type": "stream",
     "text": [
      "Train on 58605 samples, validate on 14652 samples\n",
      "Epoch 1/5\n",
      "58605/58605 [==============================] - 181s - loss: 1.4398 - acc: 0.5172 - val_loss: 0.7579 - val_acc: 0.7884\n",
      "Epoch 2/5\n",
      "58605/58605 [==============================] - 151s - loss: 0.8301 - acc: 0.7421 - val_loss: 0.5719 - val_acc: 0.8402\n",
      "Epoch 3/5\n",
      "58605/58605 [==============================] - 151s - loss: 0.7151 - acc: 0.7788 - val_loss: 0.5070 - val_acc: 0.8513\n",
      "Epoch 4/5\n",
      "58605/58605 [==============================] - 153s - loss: 0.6599 - acc: 0.7963 - val_loss: 0.4829 - val_acc: 0.8613\n",
      "Epoch 5/5\n",
      "58605/58605 [==============================] - 150s - loss: 0.6234 - acc: 0.8078 - val_loss: 0.4578 - val_acc: 0.8702\n"
     ]
    }
   ],
   "source": [
    "history3 = model3.fit(X_train, y_train, batch_size=128, epochs=5, verbose=1, validation_split=0.2)"
   ]
  },
  {
   "cell_type": "code",
   "execution_count": 72,
   "metadata": {
    "collapsed": true
   },
   "outputs": [],
   "source": [
    "adam.lr = 0.0001"
   ]
  },
  {
   "cell_type": "code",
   "execution_count": 73,
   "metadata": {},
   "outputs": [
    {
     "name": "stdout",
     "output_type": "stream",
     "text": [
      "Train on 58605 samples, validate on 14652 samples\n",
      "Epoch 1/5\n",
      "58605/58605 [==============================] - 157s - loss: 0.5908 - acc: 0.8183 - val_loss: 0.4368 - val_acc: 0.8749\n",
      "Epoch 2/5\n",
      "58605/58605 [==============================] - 151s - loss: 0.5730 - acc: 0.8228 - val_loss: 0.4250 - val_acc: 0.8759\n",
      "Epoch 3/5\n",
      "58605/58605 [==============================] - 152s - loss: 0.5490 - acc: 0.8302 - val_loss: 0.4103 - val_acc: 0.8794\n",
      "Epoch 4/5\n",
      "58605/58605 [==============================] - 149s - loss: 0.5301 - acc: 0.8368 - val_loss: 0.4091 - val_acc: 0.8817\n",
      "Epoch 5/5\n",
      "58605/58605 [==============================] - 151s - loss: 0.5170 - acc: 0.8401 - val_loss: 0.4026 - val_acc: 0.8872\n"
     ]
    }
   ],
   "source": [
    "history3 = model3.fit(X_train, y_train, batch_size=128, epochs=5, verbose=1, validation_split=0.2)"
   ]
  },
  {
   "cell_type": "code",
   "execution_count": 74,
   "metadata": {
    "collapsed": true
   },
   "outputs": [],
   "source": [
    "adam.lr = 0.00001"
   ]
  },
  {
   "cell_type": "code",
   "execution_count": 75,
   "metadata": {},
   "outputs": [
    {
     "name": "stdout",
     "output_type": "stream",
     "text": [
      "Train on 58605 samples, validate on 14652 samples\n",
      "Epoch 1/5\n",
      "58605/58605 [==============================] - 150s - loss: 0.4987 - acc: 0.8451 - val_loss: 0.3877 - val_acc: 0.8846\n",
      "Epoch 2/5\n",
      "58605/58605 [==============================] - 150s - loss: 0.4965 - acc: 0.8470 - val_loss: 0.3768 - val_acc: 0.8882\n",
      "Epoch 3/5\n",
      "58605/58605 [==============================] - 152s - loss: 0.4780 - acc: 0.8529 - val_loss: 0.3651 - val_acc: 0.8932\n",
      "Epoch 4/5\n",
      "58605/58605 [==============================] - 151s - loss: 0.4728 - acc: 0.8539 - val_loss: 0.3671 - val_acc: 0.8944\n",
      "Epoch 5/5\n",
      "58605/58605 [==============================] - 154s - loss: 0.4607 - acc: 0.8570 - val_loss: 0.3674 - val_acc: 0.8932\n"
     ]
    }
   ],
   "source": [
    "history3 = model3.fit(X_train, y_train, batch_size=128, epochs=5, verbose=1, validation_split=0.2)"
   ]
  },
  {
   "cell_type": "code",
   "execution_count": 76,
   "metadata": {},
   "outputs": [
    {
     "name": "stdout",
     "output_type": "stream",
     "text": [
      "loss: 0.396723083263\n",
      "Test accuracy: 0.882529194837\n"
     ]
    }
   ],
   "source": [
    "score3 = model3.evaluate(X_test, y_test, verbose=0)\n",
    "print('loss:', score3[0])\n",
    "print('Test accuracy:', score3[1])"
   ]
  },
  {
   "cell_type": "markdown",
   "metadata": {},
   "source": [
    "##### May be the decreasing the learning rates will work."
   ]
  },
  {
   "cell_type": "markdown",
   "metadata": {},
   "source": [
    "------------------------------------"
   ]
  },
  {
   "cell_type": "markdown",
   "metadata": {},
   "source": [
    "##### Lets try the first architecture i.e. 'model' with decaying learning rates"
   ]
  },
  {
   "cell_type": "code",
   "execution_count": 77,
   "metadata": {},
   "outputs": [
    {
     "name": "stdout",
     "output_type": "stream",
     "text": [
      "_________________________________________________________________\n",
      "Layer (type)                 Output Shape              Param #   \n",
      "=================================================================\n",
      "conv2d_22 (Conv2D)           (None, 32, 32, 32)        320       \n",
      "_________________________________________________________________\n",
      "activation_37 (Activation)   (None, 32, 32, 32)        0         \n",
      "_________________________________________________________________\n",
      "max_pooling2d_17 (MaxPooling (None, 16, 16, 32)        0         \n",
      "_________________________________________________________________\n",
      "dropout_12 (Dropout)         (None, 16, 16, 32)        0         \n",
      "_________________________________________________________________\n",
      "conv2d_23 (Conv2D)           (None, 14, 14, 64)        18496     \n",
      "_________________________________________________________________\n",
      "activation_38 (Activation)   (None, 14, 14, 64)        0         \n",
      "_________________________________________________________________\n",
      "max_pooling2d_18 (MaxPooling (None, 7, 7, 64)          0         \n",
      "_________________________________________________________________\n",
      "dropout_13 (Dropout)         (None, 7, 7, 64)          0         \n",
      "_________________________________________________________________\n",
      "flatten_9 (Flatten)          (None, 3136)              0         \n",
      "_________________________________________________________________\n",
      "dense_17 (Dense)             (None, 256)               803072    \n",
      "_________________________________________________________________\n",
      "activation_39 (Activation)   (None, 256)               0         \n",
      "_________________________________________________________________\n",
      "dropout_14 (Dropout)         (None, 256)               0         \n",
      "_________________________________________________________________\n",
      "dense_18 (Dense)             (None, 10)                2570      \n",
      "_________________________________________________________________\n",
      "activation_40 (Activation)   (None, 10)                0         \n",
      "=================================================================\n",
      "Total params: 824,458\n",
      "Trainable params: 824,458\n",
      "Non-trainable params: 0\n",
      "_________________________________________________________________\n"
     ]
    }
   ],
   "source": [
    "model4 = Sequential()\n",
    "model4.add(Conv2D(32, (3,3), strides=(1,1), padding='same', input_shape=(32,32,1)))\n",
    "model4.add(Activation('relu'))\n",
    "model4.add(MaxPooling2D(pool_size=(2,2), strides=(2,2)))\n",
    "model4.add(Dropout(0.35))\n",
    "model4.add(Conv2D(64, (3,3), strides=(1,1)))\n",
    "model4.add(Activation('relu'))\n",
    "model4.add(MaxPooling2D(pool_size=(2,2), padding='same', strides=(2,2)))\n",
    "model4.add(Dropout(0.35))\n",
    "model4.add(Flatten())\n",
    "model4.add(Dense(256))\n",
    "model4.add(Activation('relu'))\n",
    "model4.add(Dropout(0.35))\n",
    "model4.add(Dense(10))\n",
    "model4.add(Activation('softmax'))\n",
    "model4.summary()"
   ]
  },
  {
   "cell_type": "code",
   "execution_count": 82,
   "metadata": {
    "collapsed": true
   },
   "outputs": [],
   "source": [
    "adam = Adam(decay=1e-6)\n",
    "model4.compile(loss='categorical_crossentropy', optimizer=adam , metrics=['accuracy'])"
   ]
  },
  {
   "cell_type": "code",
   "execution_count": 83,
   "metadata": {},
   "outputs": [
    {
     "name": "stdout",
     "output_type": "stream",
     "text": [
      "Train on 58605 samples, validate on 14652 samples\n",
      "Epoch 1/15\n",
      "58605/58605 [==============================] - 162s - loss: 1.6382 - acc: 0.4394 - val_loss: 0.7190 - val_acc: 0.8028\n",
      "Epoch 2/15\n",
      "58605/58605 [==============================] - 162s - loss: 0.7158 - acc: 0.7828 - val_loss: 0.5233 - val_acc: 0.8535\n",
      "Epoch 3/15\n",
      "58605/58605 [==============================] - 160s - loss: 0.6005 - acc: 0.8159 - val_loss: 0.4627 - val_acc: 0.8667\n",
      "Epoch 4/15\n",
      "58605/58605 [==============================] - 160s - loss: 0.5426 - acc: 0.8341 - val_loss: 0.4306 - val_acc: 0.8787\n",
      "Epoch 5/15\n",
      "58605/58605 [==============================] - 160s - loss: 0.5036 - acc: 0.8460 - val_loss: 0.4086 - val_acc: 0.8839\n",
      "Epoch 6/15\n",
      "58605/58605 [==============================] - 161s - loss: 0.4750 - acc: 0.8543 - val_loss: 0.3786 - val_acc: 0.8912\n",
      "Epoch 7/15\n",
      "58605/58605 [==============================] - 162s - loss: 0.4511 - acc: 0.8619 - val_loss: 0.3719 - val_acc: 0.8952\n",
      "Epoch 8/15\n",
      "58605/58605 [==============================] - 161s - loss: 0.4330 - acc: 0.8676 - val_loss: 0.3798 - val_acc: 0.8861\n",
      "Epoch 9/15\n",
      "58605/58605 [==============================] - 161s - loss: 0.4112 - acc: 0.8738 - val_loss: 0.3445 - val_acc: 0.9002\n",
      "Epoch 10/15\n",
      "58605/58605 [==============================] - 161s - loss: 0.3911 - acc: 0.8802 - val_loss: 0.3363 - val_acc: 0.9028\n",
      "Epoch 11/15\n",
      "58605/58605 [==============================] - 163s - loss: 0.3832 - acc: 0.8805 - val_loss: 0.3348 - val_acc: 0.9043\n",
      "Epoch 12/15\n",
      "58605/58605 [==============================] - 164s - loss: 0.3684 - acc: 0.8864 - val_loss: 0.3217 - val_acc: 0.9065\n",
      "Epoch 13/15\n",
      "58605/58605 [==============================] - 161s - loss: 0.3567 - acc: 0.8890 - val_loss: 0.3297 - val_acc: 0.9034\n",
      "Epoch 14/15\n",
      "58605/58605 [==============================] - 160s - loss: 0.3460 - acc: 0.8928 - val_loss: 0.3146 - val_acc: 0.9092\n",
      "Epoch 15/15\n",
      "58605/58605 [==============================] - 165s - loss: 0.3372 - acc: 0.8955 - val_loss: 0.3150 - val_acc: 0.9109\n"
     ]
    }
   ],
   "source": [
    "history4 = model4.fit(X_train, y_train, batch_size=128, epochs=15, verbose=1, validation_split=0.2)"
   ]
  },
  {
   "cell_type": "code",
   "execution_count": 84,
   "metadata": {},
   "outputs": [
    {
     "name": "stdout",
     "output_type": "stream",
     "text": [
      "loss: 0.340593328987\n",
      "Test accuracy: 0.903272894899\n"
     ]
    }
   ],
   "source": [
    "score4 = model4.evaluate(X_test, y_test, verbose=0)\n",
    "print('loss:', score4[0])\n",
    "print('Test accuracy:', score4[1])"
   ]
  },
  {
   "cell_type": "code",
   "execution_count": 85,
   "metadata": {},
   "outputs": [
    {
     "data": {
      "image/png": "[encoded data removed]",
      "text/plain": [
       "<matplotlib.figure.Figure at 0xfe630c0f28>"
      ]
     },
     "metadata": {},
     "output_type": "display_data"
    },
    {
     "data": {
      "image/png": "[encoded data removed]",
      "text/plain": [
       "<matplotlib.figure.Figure at 0xfdd1887828>"
      ]
     },
     "metadata": {},
     "output_type": "display_data"
    }
   ],
   "source": [
    "# summarize history for accuracy\n",
    "plt.plot(history4.history['acc'])\n",
    "plt.plot(history4.history['val_acc'])\n",
    "plt.title('model accuracy')\n",
    "plt.ylabel('accuracy')\n",
    "plt.xlabel('epoch')\n",
    "plt.legend(['train', 'test'], loc='upper left')\n",
    "plt.show()\n",
    "\n",
    "# summarize history for loss\n",
    "plt.plot(history4.history['loss'])\n",
    "plt.plot(history4.history['val_loss'])\n",
    "plt.title('model loss')\n",
    "plt.ylabel('loss')\n",
    "plt.xlabel('epoch')\n",
    "plt.legend(['train', 'test'], loc='upper left')\n",
    "plt.show()"
   ]
  },
  {
   "cell_type": "markdown",
   "metadata": {},
   "source": [
    "#### quite Satisfying, deacying the learning rate with that regularization works"
   ]
  },
  {
   "cell_type": "markdown",
   "metadata": {},
   "source": [
    "-------------------------------------"
   ]
  },
  {
   "cell_type": "markdown",
   "metadata": {},
   "source": [
    "#### Let's do some more experiment, Now with the 2nd architecture i.e. 'model2' with the decaying learning rates"
   ]
  },
  {
   "cell_type": "code",
   "execution_count": 93,
   "metadata": {},
   "outputs": [
    {
     "name": "stdout",
     "output_type": "stream",
     "text": [
      "_________________________________________________________________\n",
      "Layer (type)                 Output Shape              Param #   \n",
      "=================================================================\n",
      "conv2d_28 (Conv2D)           (None, 32, 32, 32)        320       \n",
      "_________________________________________________________________\n",
      "activation_49 (Activation)   (None, 32, 32, 32)        0         \n",
      "_________________________________________________________________\n",
      "max_pooling2d_23 (MaxPooling (None, 16, 16, 32)        0         \n",
      "_________________________________________________________________\n",
      "dropout_21 (Dropout)         (None, 16, 16, 32)        0         \n",
      "_________________________________________________________________\n",
      "conv2d_29 (Conv2D)           (None, 16, 16, 64)        18496     \n",
      "_________________________________________________________________\n",
      "activation_50 (Activation)   (None, 16, 16, 64)        0         \n",
      "_________________________________________________________________\n",
      "conv2d_30 (Conv2D)           (None, 16, 16, 64)        36928     \n",
      "_________________________________________________________________\n",
      "activation_51 (Activation)   (None, 16, 16, 64)        0         \n",
      "_________________________________________________________________\n",
      "max_pooling2d_24 (MaxPooling (None, 8, 8, 64)          0         \n",
      "_________________________________________________________________\n",
      "dropout_22 (Dropout)         (None, 8, 8, 64)          0         \n",
      "_________________________________________________________________\n",
      "flatten_12 (Flatten)         (None, 4096)              0         \n",
      "_________________________________________________________________\n",
      "dense_23 (Dense)             (None, 256)               1048832   \n",
      "_________________________________________________________________\n",
      "activation_52 (Activation)   (None, 256)               0         \n",
      "_________________________________________________________________\n",
      "dropout_23 (Dropout)         (None, 256)               0         \n",
      "_________________________________________________________________\n",
      "dense_24 (Dense)             (None, 10)                2570      \n",
      "_________________________________________________________________\n",
      "activation_53 (Activation)   (None, 10)                0         \n",
      "=================================================================\n",
      "Total params: 1,107,146\n",
      "Trainable params: 1,107,146\n",
      "Non-trainable params: 0\n",
      "_________________________________________________________________\n"
     ]
    }
   ],
   "source": [
    "model5 = Sequential()\n",
    "model5.add(Conv2D(32, (3,3), strides=(1,1), padding='same', input_shape=(32,32,1)))\n",
    "model5.add(Activation('relu'))\n",
    "model5.add(MaxPooling2D(pool_size=(2,2), strides=(2,2)))\n",
    "model5.add(Dropout(0.35))\n",
    "model5.add(Conv2D(64, (3,3), strides=(1,1),padding='same'))\n",
    "model5.add(Activation('relu'))\n",
    "model5.add(Conv2D(64, (3,3), strides=(1,1),padding='same'))\n",
    "model5.add(Activation('relu'))\n",
    "model5.add(MaxPooling2D(pool_size=(2,2), padding='same', strides=(2,2)))\n",
    "model5.add(Dropout(0.35))\n",
    "model5.add(Flatten())\n",
    "model5.add(Dense(256))\n",
    "model5.add(Activation('relu'))\n",
    "model5.add(Dropout(0.35))\n",
    "model5.add(Dense(10))\n",
    "model5.add(Activation('softmax'))\n",
    "model5.summary()"
   ]
  },
  {
   "cell_type": "code",
   "execution_count": 96,
   "metadata": {
    "collapsed": true
   },
   "outputs": [],
   "source": [
    "adam = Adam(decay=1e-6)\n",
    "model5.compile(loss='categorical_crossentropy', optimizer=adam , metrics=['accuracy'])"
   ]
  },
  {
   "cell_type": "code",
   "execution_count": 97,
   "metadata": {},
   "outputs": [
    {
     "name": "stdout",
     "output_type": "stream",
     "text": [
      "Train on 58605 samples, validate on 14652 samples\n",
      "Epoch 1/5\n",
      "58605/58605 [==============================] - 459s - loss: 1.3627 - acc: 0.5383 - val_loss: 0.6117 - val_acc: 0.8183\n",
      "Epoch 2/5\n",
      "58605/58605 [==============================] - 350s - loss: 0.6598 - acc: 0.7955 - val_loss: 0.4710 - val_acc: 0.8608\n",
      "Epoch 3/5\n",
      "58605/58605 [==============================] - 349s - loss: 0.5510 - acc: 0.8307 - val_loss: 0.4134 - val_acc: 0.8760\n",
      "Epoch 4/5\n",
      "58605/58605 [==============================] - 352s - loss: 0.4903 - acc: 0.8484 - val_loss: 0.3703 - val_acc: 0.8890\n",
      "Epoch 5/5\n",
      "58605/58605 [==============================] - 354s - loss: 0.4438 - acc: 0.8640 - val_loss: 0.3429 - val_acc: 0.8980\n"
     ]
    }
   ],
   "source": [
    "history5 = model5.fit(X_train, y_train, batch_size=128, epochs=5, verbose=1, validation_split=0.2)"
   ]
  },
  {
   "cell_type": "code",
   "execution_count": 98,
   "metadata": {},
   "outputs": [
    {
     "name": "stdout",
     "output_type": "stream",
     "text": [
      "Train on 58605 samples, validate on 14652 samples\n",
      "Epoch 1/10\n",
      "58605/58605 [==============================] - 355s - loss: 0.4177 - acc: 0.8726 - val_loss: 0.3311 - val_acc: 0.9000\n",
      "Epoch 2/10\n",
      "58605/58605 [==============================] - 357s - loss: 0.4011 - acc: 0.8760 - val_loss: 0.3295 - val_acc: 0.9018\n",
      "Epoch 3/10\n",
      "58605/58605 [==============================] - 353s - loss: 0.3758 - acc: 0.8858 - val_loss: 0.3099 - val_acc: 0.9113\n",
      "Epoch 4/10\n",
      "58605/58605 [==============================] - 352s - loss: 0.3574 - acc: 0.8907 - val_loss: 0.3000 - val_acc: 0.9126\n",
      "Epoch 5/10\n",
      "58605/58605 [==============================] - 351s - loss: 0.3415 - acc: 0.8939 - val_loss: 0.2986 - val_acc: 0.9139\n",
      "Epoch 6/10\n",
      "58605/58605 [==============================] - 351s - loss: 0.3328 - acc: 0.8979 - val_loss: 0.2926 - val_acc: 0.9148\n",
      "Epoch 7/10\n",
      "58605/58605 [==============================] - 354s - loss: 0.3189 - acc: 0.9017 - val_loss: 0.2803 - val_acc: 0.9212\n",
      "Epoch 8/10\n",
      "58605/58605 [==============================] - 353s - loss: 0.3079 - acc: 0.9053 - val_loss: 0.2765 - val_acc: 0.9215\n",
      "Epoch 9/10\n",
      "58605/58605 [==============================] - 361s - loss: 0.3022 - acc: 0.9073 - val_loss: 0.2684 - val_acc: 0.9240\n",
      "Epoch 10/10\n",
      "58605/58605 [==============================] - 356s - loss: 0.2896 - acc: 0.9094 - val_loss: 0.2735 - val_acc: 0.9236\n"
     ]
    }
   ],
   "source": [
    "history5 = model5.fit(X_train, y_train, batch_size=128, epochs=10, verbose=1, validation_split=0.2)"
   ]
  },
  {
   "cell_type": "code",
   "execution_count": 99,
   "metadata": {},
   "outputs": [
    {
     "name": "stdout",
     "output_type": "stream",
     "text": [
      "loss: 0.296654294592\n",
      "Test accuracy: 0.917025199754\n"
     ]
    }
   ],
   "source": [
    "score5 = model5.evaluate(X_test, y_test, verbose=0)\n",
    "print('loss:', score5[0])\n",
    "print('Test accuracy:', score5[1])"
   ]
  },
  {
   "cell_type": "code",
   "execution_count": 100,
   "metadata": {},
   "outputs": [
    {
     "data": {
      "image/png": "[encoded data removed]",
      "text/plain": [
       "<matplotlib.figure.Figure at 0xfe6b8d20b8>"
      ]
     },
     "metadata": {},
     "output_type": "display_data"
    },
    {
     "data": {
      "image/png": "[encoded data removed]",
      "text/plain": [
       "<matplotlib.figure.Figure at 0xfe6321a0b8>"
      ]
     },
     "metadata": {},
     "output_type": "display_data"
    }
   ],
   "source": [
    "# summarize history for accuracy\n",
    "plt.plot(history5.history['acc'])\n",
    "plt.plot(history5.history['val_acc'])\n",
    "plt.title('model accuracy')\n",
    "plt.ylabel('accuracy')\n",
    "plt.xlabel('epoch')\n",
    "plt.legend(['train', 'test'], loc='upper left')\n",
    "plt.show()\n",
    "\n",
    "# summarize history for loss\n",
    "plt.plot(history5.history['loss'])\n",
    "plt.plot(history5.history['val_loss'])\n",
    "plt.title('model loss')\n",
    "plt.ylabel('loss')\n",
    "plt.xlabel('epoch')\n",
    "plt.legend(['train', 'test'], loc='upper left')\n",
    "plt.show()"
   ]
  },
  {
   "cell_type": "markdown",
   "metadata": {},
   "source": [
    "#### decaying the learning rates also works here!!"
   ]
  },
  {
   "cell_type": "code",
   "execution_count": null,
   "metadata": {
    "collapsed": true
   },
   "outputs": [],
   "source": []
  }
 ],
 "metadata": {
  "kernelspec": {
   "display_name": "Python 3",
   "language": "python",
   "name": "python3"
  },
  "language_info": {
   "codemirror_mode": {
    "name": "ipython",
    "version": 3
   },
   "file_extension": ".py",
   "mimetype": "text/x-python",
   "name": "python",
   "nbconvert_exporter": "python",
   "pygments_lexer": "ipython3",
   "version": "3.6.1"
  }
 },
 "nbformat": 4,
 "nbformat_minor": 2
}
