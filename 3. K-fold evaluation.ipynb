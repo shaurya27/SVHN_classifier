{
 "cells": [
  {
   "cell_type": "markdown",
   "metadata": {},
   "source": [
    "## Let's use K-fold "
   ]
  },
  {
   "cell_type": "code",
   "execution_count": 5,
   "metadata": {
    "collapsed": true
   },
   "outputs": [],
   "source": [
    "import numpy as np\n",
    "import pandas as pd\n",
    "import matplotlib.pyplot as plt\n",
    "%matplotlib inline\n",
    "import scipy.io"
   ]
  },
  {
   "cell_type": "code",
   "execution_count": 6,
   "metadata": {
    "collapsed": true
   },
   "outputs": [],
   "source": [
    "train = scipy.io.loadmat('train_32x32.mat')\n",
    "test  = scipy.io.loadmat('test_32x32.mat')"
   ]
  },
  {
   "cell_type": "code",
   "execution_count": 7,
   "metadata": {
    "collapsed": true
   },
   "outputs": [],
   "source": [
    "train['X'] = train['X'][np.newaxis,...]\n",
    "train_data = np.swapaxes(train['X'],0,4).squeeze()\n",
    "\n",
    "test['X'] = test['X'][np.newaxis,...]\n",
    "test_data = np.swapaxes(test['X'],0,4).squeeze()"
   ]
  },
  {
   "cell_type": "code",
   "execution_count": 14,
   "metadata": {
    "collapsed": true
   },
   "outputs": [],
   "source": [
    "train_data = train_data.astype('float32')\n",
    "test_data = test_data.astype('float32')\n",
    "\n",
    "train_data /= 255.0\n",
    "test_data /= 255.0"
   ]
  },
  {
   "cell_type": "markdown",
   "metadata": {
    "collapsed": true
   },
   "source": [
    "#### Convert rgb to grayscale"
   ]
  },
  {
   "cell_type": "code",
   "execution_count": 15,
   "metadata": {
    "collapsed": true
   },
   "outputs": [],
   "source": [
    "def rgb2gray(rgb):\n",
    "    return np.dot(rgb[...,:3], [0.299, 0.587, 0.114])"
   ]
  },
  {
   "cell_type": "code",
   "execution_count": 16,
   "metadata": {
    "collapsed": true
   },
   "outputs": [],
   "source": [
    "X_train = np.zeros((73257, 32, 32))\n",
    "for i in range(train_data.shape[0]):\n",
    "    X_train[i] = rgb2gray(train_data[i])"
   ]
  },
  {
   "cell_type": "code",
   "execution_count": 17,
   "metadata": {
    "collapsed": true
   },
   "outputs": [],
   "source": [
    "X_test = np.zeros((26032, 32, 32))\n",
    "for i in range(test_data.shape[0]):\n",
    "    X_test[i] = rgb2gray(test_data[i])"
   ]
  },
  {
   "cell_type": "code",
   "execution_count": 18,
   "metadata": {
    "collapsed": true
   },
   "outputs": [],
   "source": [
    "X_train = X_train.reshape(X_train.shape[0],32, 32, 1)\n",
    "X_test = X_test.reshape(X_test.shape[0], 32, 32, 1)"
   ]
  },
  {
   "cell_type": "markdown",
   "metadata": {},
   "source": [
    "-----------------------"
   ]
  },
  {
   "cell_type": "code",
   "execution_count": 19,
   "metadata": {},
   "outputs": [
    {
     "name": "stderr",
     "output_type": "stream",
     "text": [
      "Using TensorFlow backend.\n"
     ]
    }
   ],
   "source": [
    "import keras\n",
    "from keras.layers import Conv2D, MaxPooling2D, Flatten\n",
    "from keras.models import Sequential\n",
    "from keras.layers import Dense, Dropout, Activation\n",
    "from keras.layers import BatchNormalization"
   ]
  },
  {
   "cell_type": "markdown",
   "metadata": {},
   "source": [
    "-----------------------------"
   ]
  },
  {
   "cell_type": "code",
   "execution_count": 20,
   "metadata": {
    "collapsed": true
   },
   "outputs": [],
   "source": [
    "y_train = keras.utils.to_categorical(train['y'][:,0])[:,1:]\n",
    "y_test = keras.utils.to_categorical(test['y'][:,0])[:,1:]"
   ]
  },
  {
   "cell_type": "markdown",
   "metadata": {},
   "source": [
    "-----------------------------"
   ]
  },
  {
   "cell_type": "code",
   "execution_count": 21,
   "metadata": {
    "collapsed": true
   },
   "outputs": [],
   "source": [
    "from sklearn.model_selection import StratifiedKFold"
   ]
  },
  {
   "cell_type": "code",
   "execution_count": 55,
   "metadata": {
    "collapsed": true
   },
   "outputs": [],
   "source": [
    "kfold = StratifiedKFold(n_splits=4, shuffle=True, random_state=111)\n",
    "cvscores = []"
   ]
  },
  {
   "cell_type": "code",
   "execution_count": 56,
   "metadata": {
    "collapsed": true
   },
   "outputs": [],
   "source": [
    "from keras.optimizers import Adam\n",
    "adam = Adam(decay=1e-6)"
   ]
  },
  {
   "cell_type": "code",
   "execution_count": 57,
   "metadata": {
    "collapsed": true
   },
   "outputs": [],
   "source": [
    "y_ = train['y'].reshape(-1)"
   ]
  },
  {
   "cell_type": "code",
   "execution_count": 58,
   "metadata": {},
   "outputs": [
    {
     "name": "stdout",
     "output_type": "stream",
     "text": [
      "Epoch 1/15\n",
      "54938/54938 [==============================] - 336s - loss: 1.6069 - acc: 0.4438   \n",
      "Epoch 2/15\n",
      "54938/54938 [==============================] - 306s - loss: 0.6970 - acc: 0.7852   \n",
      "Epoch 3/15\n",
      "54938/54938 [==============================] - 309s - loss: 0.5730 - acc: 0.8237   \n",
      "Epoch 4/15\n",
      "54938/54938 [==============================] - 307s - loss: 0.5120 - acc: 0.8432   \n",
      "Epoch 5/15\n",
      "54938/54938 [==============================] - 308s - loss: 0.4701 - acc: 0.8558   \n",
      "Epoch 6/15\n",
      "54938/54938 [==============================] - 306s - loss: 0.4370 - acc: 0.8665   \n",
      "Epoch 7/15\n",
      "54938/54938 [==============================] - 305s - loss: 0.4104 - acc: 0.8743   \n",
      "Epoch 8/15\n",
      "54938/54938 [==============================] - 310s - loss: 0.3931 - acc: 0.8792   \n",
      "Epoch 9/15\n",
      "54938/54938 [==============================] - 306s - loss: 0.3695 - acc: 0.8867   \n",
      "Epoch 10/15\n",
      "54938/54938 [==============================] - 306s - loss: 0.3542 - acc: 0.8920   \n",
      "Epoch 11/15\n",
      "54938/54938 [==============================] - 305s - loss: 0.3397 - acc: 0.8959   \n",
      "Epoch 12/15\n",
      "54938/54938 [==============================] - 304s - loss: 0.3275 - acc: 0.8997   \n",
      "Epoch 13/15\n",
      "54938/54938 [==============================] - 304s - loss: 0.3108 - acc: 0.9029   \n",
      "Epoch 14/15\n",
      "54938/54938 [==============================] - 304s - loss: 0.3013 - acc: 0.9074   \n",
      "Epoch 15/15\n",
      "54938/54938 [==============================] - 304s - loss: 0.2939 - acc: 0.9077   \n",
      "acc: 92.12%\n",
      "Epoch 1/15\n",
      "54942/54942 [==============================] - 311s - loss: 2.2292 - acc: 0.1920   \n",
      "Epoch 2/15\n",
      "54942/54942 [==============================] - 304s - loss: 1.7734 - acc: 0.3878   \n",
      "Epoch 3/15\n",
      "54942/54942 [==============================] - 304s - loss: 1.4509 - acc: 0.5098   \n",
      "Epoch 4/15\n",
      "54942/54942 [==============================] - 304s - loss: 1.3355 - acc: 0.5490   \n",
      "Epoch 5/15\n",
      "54942/54942 [==============================] - 304s - loss: 1.2895 - acc: 0.5647   \n",
      "Epoch 6/15\n",
      "54942/54942 [==============================] - 304s - loss: 1.2556 - acc: 0.5775   \n",
      "Epoch 7/15\n",
      "54942/54942 [==============================] - 305s - loss: 1.1079 - acc: 0.6315   \n",
      "Epoch 8/15\n",
      "54942/54942 [==============================] - 303s - loss: 0.9686 - acc: 0.6818   \n",
      "Epoch 9/15\n",
      "54942/54942 [==============================] - 304s - loss: 0.9215 - acc: 0.7010   \n",
      "Epoch 10/15\n",
      "54942/54942 [==============================] - 304s - loss: 0.8863 - acc: 0.7117   \n",
      "Epoch 11/15\n",
      "54942/54942 [==============================] - 303s - loss: 0.8658 - acc: 0.7193   \n",
      "Epoch 12/15\n",
      "54942/54942 [==============================] - 306s - loss: 0.8480 - acc: 0.7249   \n",
      "Epoch 13/15\n",
      "54942/54942 [==============================] - 303s - loss: 0.8331 - acc: 0.7287   \n",
      "Epoch 14/15\n",
      "54942/54942 [==============================] - 304s - loss: 0.8293 - acc: 0.7302   \n",
      "Epoch 15/15\n",
      "54942/54942 [==============================] - 304s - loss: 0.8145 - acc: 0.7374   \n",
      "acc: 83.21%\n",
      "Epoch 1/15\n",
      "54944/54944 [==============================] - 307s - loss: 2.2427 - acc: 0.1872   \n",
      "Epoch 2/15\n",
      "54944/54944 [==============================] - 303s - loss: 2.2381 - acc: 0.1892   \n",
      "Epoch 3/15\n",
      "54944/54944 [==============================] - 304s - loss: 1.6781 - acc: 0.4182   \n",
      "Epoch 4/15\n",
      "54944/54944 [==============================] - 304s - loss: 0.9097 - acc: 0.7098   \n",
      "Epoch 5/15\n",
      "54944/54944 [==============================] - 304s - loss: 0.7825 - acc: 0.7513   \n",
      "Epoch 6/15\n",
      "54944/54944 [==============================] - 304s - loss: 0.7163 - acc: 0.7715   \n",
      "Epoch 7/15\n",
      "54944/54944 [==============================] - 304s - loss: 0.6747 - acc: 0.7857   \n",
      "Epoch 8/15\n",
      "54944/54944 [==============================] - 304s - loss: 0.6445 - acc: 0.7968   \n",
      "Epoch 9/15\n",
      "54944/54944 [==============================] - 307s - loss: 0.6234 - acc: 0.8028   \n",
      "Epoch 10/15\n",
      "54944/54944 [==============================] - 304s - loss: 0.6054 - acc: 0.8073   \n",
      "Epoch 11/15\n",
      "54944/54944 [==============================] - 304s - loss: 0.5931 - acc: 0.8128   \n",
      "Epoch 12/15\n",
      "54944/54944 [==============================] - 304s - loss: 0.5773 - acc: 0.8181   \n",
      "Epoch 13/15\n",
      "54944/54944 [==============================] - 303s - loss: 0.5616 - acc: 0.8214   \n",
      "Epoch 14/15\n",
      "54944/54944 [==============================] - 304s - loss: 0.5610 - acc: 0.8219   \n",
      "Epoch 15/15\n",
      "54944/54944 [==============================] - 304s - loss: 0.5457 - acc: 0.8269   \n",
      "acc: 88.77%\n",
      "Epoch 1/15\n",
      "54947/54947 [==============================] - 307s - loss: 2.2409 - acc: 0.1883   \n",
      "Epoch 2/15\n",
      "54947/54947 [==============================] - 305s - loss: 2.2375 - acc: 0.1892   \n",
      "Epoch 3/15\n",
      "54947/54947 [==============================] - 304s - loss: 2.2376 - acc: 0.1892   \n",
      "Epoch 4/15\n",
      "54947/54947 [==============================] - 305s - loss: 2.2372 - acc: 0.1892   \n",
      "Epoch 5/15\n",
      "54947/54947 [==============================] - 305s - loss: 2.2374 - acc: 0.1892   \n",
      "Epoch 6/15\n",
      "54947/54947 [==============================] - 309s - loss: 2.2371 - acc: 0.1892   \n",
      "Epoch 7/15\n",
      "54947/54947 [==============================] - 307s - loss: 2.2372 - acc: 0.1892   \n",
      "Epoch 8/15\n",
      "54947/54947 [==============================] - 308s - loss: 2.2370 - acc: 0.1892   \n",
      "Epoch 9/15\n",
      "54947/54947 [==============================] - 308s - loss: 2.2373 - acc: 0.1892   \n",
      "Epoch 10/15\n",
      "54947/54947 [==============================] - 308s - loss: 2.2371 - acc: 0.1892   \n",
      "Epoch 11/15\n",
      "54947/54947 [==============================] - 309s - loss: 2.2370 - acc: 0.1892   \n",
      "Epoch 12/15\n",
      "54947/54947 [==============================] - 307s - loss: 2.2369 - acc: 0.1892   \n",
      "Epoch 13/15\n",
      "54947/54947 [==============================] - 307s - loss: 2.2369 - acc: 0.1892   \n",
      "Epoch 14/15\n",
      "54947/54947 [==============================] - 308s - loss: 2.2369 - acc: 0.1892   \n",
      "Epoch 15/15\n",
      "54947/54947 [==============================] - 308s - loss: 2.2370 - acc: 0.1892   \n",
      "acc: 18.92%\n",
      "70.75% (+/- 30.09%)\n"
     ]
    }
   ],
   "source": [
    "for train_indices, val_indices in kfold.split(X_train,y_):\n",
    "    \n",
    "    model5 = Sequential()\n",
    "    model5.add(Conv2D(32, (3,3), strides=(1,1), padding='same', input_shape=(32,32,1)))\n",
    "    model5.add(Activation('relu'))\n",
    "    model5.add(MaxPooling2D(pool_size=(2,2), strides=(2,2)))\n",
    "    model5.add(Dropout(0.35))\n",
    "    model5.add(Conv2D(64, (3,3), strides=(1,1),padding='same'))\n",
    "    model5.add(Activation('relu'))\n",
    "    model5.add(Conv2D(64, (3,3), strides=(1,1),padding='same'))\n",
    "    model5.add(Activation('relu'))\n",
    "    model5.add(MaxPooling2D(pool_size=(2,2), padding='same', strides=(2,2)))\n",
    "    model5.add(Dropout(0.35))\n",
    "    model5.add(Flatten())\n",
    "    model5.add(Dense(256))\n",
    "    model5.add(Activation('relu'))\n",
    "    model5.add(Dropout(0.35))\n",
    "    model5.add(Dense(10))\n",
    "    model5.add(Activation('softmax'))\n",
    "    \n",
    "    model5.compile(loss='categorical_crossentropy', optimizer=adam , metrics=['accuracy'])\n",
    "    model5.fit(X_train[train_indices], y_train[train_indices], epochs=15, batch_size=128, verbose=1)\n",
    "    scores = model5.evaluate(X_train[val_indices], y_train[val_indices], verbose=0)\n",
    "    print(\"%s: %.2f%%\" % (model5.metrics_names[1], scores[1]*100))\n",
    "    cvscores.append(scores[1] * 100)\n",
    "print(\"%.2f%% (+/- %.2f%%)\" % (np.mean(cvscores), np.std(cvscores)))"
   ]
  },
  {
   "cell_type": "code",
   "execution_count": null,
   "metadata": {
    "collapsed": true
   },
   "outputs": [],
   "source": []
  }
 ],
 "metadata": {
  "kernelspec": {
   "display_name": "Python 3",
   "language": "python",
   "name": "python3"
  },
  "language_info": {
   "codemirror_mode": {
    "name": "ipython",
    "version": 3
   },
   "file_extension": ".py",
   "mimetype": "text/x-python",
   "name": "python",
   "nbconvert_exporter": "python",
   "pygments_lexer": "ipython3",
   "version": "3.6.1"
  }
 },
 "nbformat": 4,
 "nbformat_minor": 2
}
