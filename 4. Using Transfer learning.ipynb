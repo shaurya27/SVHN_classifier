{
 "cells": [
  {
   "cell_type": "markdown",
   "metadata": {},
   "source": [
    "### Let's try transfer learning"
   ]
  },
  {
   "cell_type": "code",
   "execution_count": 2,
   "metadata": {
    "collapsed": true
   },
   "outputs": [],
   "source": [
    "import numpy as np\n",
    "import pandas as pd\n",
    "import matplotlib.pyplot as plt\n",
    "%matplotlib inline\n",
    "import scipy.io"
   ]
  },
  {
   "cell_type": "code",
   "execution_count": 3,
   "metadata": {},
   "outputs": [
    {
     "name": "stderr",
     "output_type": "stream",
     "text": [
      "Using TensorFlow backend.\n"
     ]
    }
   ],
   "source": [
    "import keras\n",
    "from keras.layers import Conv2D, MaxPooling2D, Flatten\n",
    "from keras.models import Sequential\n",
    "from keras.layers import Dense, Dropout, Activation\n",
    "from keras.optimizers import Adam\n",
    "from keras.datasets import mnist\n",
    "from keras.preprocessing.image import ImageDataGenerator"
   ]
  },
  {
   "cell_type": "code",
   "execution_count": 5,
   "metadata": {},
   "outputs": [
    {
     "name": "stdout",
     "output_type": "stream",
     "text": [
      "X_train shape: (60000, 28, 28)\n",
      "60000 train samples\n",
      "10000 test samples\n"
     ]
    }
   ],
   "source": [
    "(X_train, y_train), (X_test, y_test) = mnist.load_data()\n",
    "\n",
    "print('X_train shape:', X_train.shape)\n",
    "print(X_train.shape[0], 'train samples')\n",
    "print(X_test.shape[0], 'test samples')"
   ]
  },
  {
   "cell_type": "code",
   "execution_count": 10,
   "metadata": {},
   "outputs": [
    {
     "name": "stdout",
     "output_type": "stream",
     "text": [
      "60000 train samples\n",
      "10000 test samples\n"
     ]
    }
   ],
   "source": [
    "X_train = X_train.reshape(X_train.shape[0],28, 28, 1)\n",
    "X_test = X_test.reshape(X_test.shape[0], 28, 28, 1)\n",
    "X_train = X_train.astype('float32')\n",
    "X_test = X_test.astype('float32')\n",
    "# normalize\n",
    "X_train /= 255\n",
    "X_test /= 255\n",
    "print(X_train.shape[0], 'train samples')\n",
    "print(X_test.shape[0], 'test samples')"
   ]
  },
  {
   "cell_type": "code",
   "execution_count": 13,
   "metadata": {
    "collapsed": true
   },
   "outputs": [],
   "source": [
    "# convert class vectors to binary class matrices\n",
    "Y_train = keras.utils.to_categorical(y_train, 10)\n",
    "Y_test = keras.utils.to_categorical(y_test, 10)"
   ]
  },
  {
   "cell_type": "code",
   "execution_count": 4,
   "metadata": {},
   "outputs": [
    {
     "name": "stdout",
     "output_type": "stream",
     "text": [
      "_________________________________________________________________\n",
      "Layer (type)                 Output Shape              Param #   \n",
      "=================================================================\n",
      "conv2d_1 (Conv2D)            (None, 28, 28, 32)        320       \n",
      "_________________________________________________________________\n",
      "activation_1 (Activation)    (None, 28, 28, 32)        0         \n",
      "_________________________________________________________________\n",
      "max_pooling2d_1 (MaxPooling2 (None, 14, 14, 32)        0         \n",
      "_________________________________________________________________\n",
      "conv2d_2 (Conv2D)            (None, 12, 12, 64)        18496     \n",
      "_________________________________________________________________\n",
      "activation_2 (Activation)    (None, 12, 12, 64)        0         \n",
      "_________________________________________________________________\n",
      "max_pooling2d_2 (MaxPooling2 (None, 6, 6, 64)          0         \n",
      "_________________________________________________________________\n",
      "dropout_1 (Dropout)          (None, 6, 6, 64)          0         \n",
      "_________________________________________________________________\n",
      "flatten_1 (Flatten)          (None, 2304)              0         \n",
      "_________________________________________________________________\n",
      "dense_1 (Dense)              (None, 128)               295040    \n",
      "_________________________________________________________________\n",
      "activation_3 (Activation)    (None, 128)               0         \n",
      "_________________________________________________________________\n",
      "dropout_2 (Dropout)          (None, 128)               0         \n",
      "_________________________________________________________________\n",
      "dense_2 (Dense)              (None, 10)                1290      \n",
      "_________________________________________________________________\n",
      "activation_4 (Activation)    (None, 10)                0         \n",
      "=================================================================\n",
      "Total params: 315,146\n",
      "Trainable params: 315,146\n",
      "Non-trainable params: 0\n",
      "_________________________________________________________________\n"
     ]
    }
   ],
   "source": [
    "model = Sequential()\n",
    "model.add(Conv2D(32, (3,3), strides=(1,1), padding='same', input_shape=(28,28,1)))\n",
    "model.add(Activation('relu'))\n",
    "model.add(MaxPooling2D(pool_size=(2,2), strides=(2,2)))\n",
    "model.add(Conv2D(64, (3,3), strides=(1,1)))\n",
    "model.add(Activation('relu'))\n",
    "model.add(MaxPooling2D(pool_size=(2,2), padding='same', strides=(2,2)))\n",
    "model.add(Dropout(0.25))\n",
    "model.add(Flatten())\n",
    "model.add(Dense(128))\n",
    "model.add(Activation('relu'))\n",
    "model.add(Dropout(0.25))\n",
    "model.add(Dense(10))\n",
    "model.add(Activation('softmax'))\n",
    "model.summary()"
   ]
  },
  {
   "cell_type": "code",
   "execution_count": 15,
   "metadata": {},
   "outputs": [
    {
     "name": "stdout",
     "output_type": "stream",
     "text": [
      "Train on 48000 samples, validate on 12000 samples\n",
      "Epoch 1/10\n",
      "48000/48000 [==============================] - 83s - loss: 0.2722 - acc: 0.9157 - val_loss: 0.0756 - val_acc: 0.9777\n",
      "Epoch 2/10\n",
      "48000/48000 [==============================] - 82s - loss: 0.0878 - acc: 0.9721 - val_loss: 0.0492 - val_acc: 0.9857\n",
      "Epoch 3/10\n",
      "48000/48000 [==============================] - 82s - loss: 0.0616 - acc: 0.9809 - val_loss: 0.0414 - val_acc: 0.9878\n",
      "Epoch 4/10\n",
      "48000/48000 [==============================] - 82s - loss: 0.0478 - acc: 0.9854 - val_loss: 0.0415 - val_acc: 0.9876\n",
      "Epoch 5/10\n",
      "48000/48000 [==============================] - 83s - loss: 0.0412 - acc: 0.9876 - val_loss: 0.0364 - val_acc: 0.9897\n",
      "Epoch 6/10\n",
      "48000/48000 [==============================] - 83s - loss: 0.0361 - acc: 0.9884 - val_loss: 0.0393 - val_acc: 0.9880\n",
      "Epoch 7/10\n",
      "48000/48000 [==============================] - 82s - loss: 0.0325 - acc: 0.9893 - val_loss: 0.0321 - val_acc: 0.9902\n",
      "Epoch 8/10\n",
      "48000/48000 [==============================] - 83s - loss: 0.0263 - acc: 0.9908 - val_loss: 0.0343 - val_acc: 0.9897\n",
      "Epoch 9/10\n",
      "48000/48000 [==============================] - 84s - loss: 0.0235 - acc: 0.9923 - val_loss: 0.0338 - val_acc: 0.9906\n",
      "Epoch 10/10\n",
      "48000/48000 [==============================] - 82s - loss: 0.0203 - acc: 0.9932 - val_loss: 0.0306 - val_acc: 0.9919\n"
     ]
    }
   ],
   "source": [
    "model.compile(loss='categorical_crossentropy', optimizer='adam' , metrics=['accuracy'])\n",
    "history = model.fit(X_train, Y_train, batch_size=128, epochs=10, verbose=1, validation_split=0.2)"
   ]
  },
  {
   "cell_type": "code",
   "execution_count": 16,
   "metadata": {},
   "outputs": [
    {
     "data": {
      "image/png": "[encoded data removed]",
      "text/plain": [
       "<matplotlib.figure.Figure at 0xccd80c40b8>"
      ]
     },
     "metadata": {},
     "output_type": "display_data"
    },
    {
     "data": {
      "image/png": "[encoded data removed]",
      "text/plain": [
       "<matplotlib.figure.Figure at 0xccd94ad0f0>"
      ]
     },
     "metadata": {},
     "output_type": "display_data"
    }
   ],
   "source": [
    "# summarize history for accuracy\n",
    "plt.plot(history.history['acc'])\n",
    "plt.plot(history.history['val_acc'])\n",
    "plt.title('model accuracy')\n",
    "plt.ylabel('accuracy')\n",
    "plt.xlabel('epoch')\n",
    "plt.legend(['train', 'test'], loc='upper left')\n",
    "plt.show()\n",
    "\n",
    "# summarize history for loss\n",
    "plt.plot(history.history['loss'])\n",
    "plt.plot(history.history['val_loss'])\n",
    "plt.title('model loss')\n",
    "plt.ylabel('loss')\n",
    "plt.xlabel('epoch')\n",
    "plt.legend(['train', 'test'], loc='upper left')\n",
    "plt.show()"
   ]
  },
  {
   "cell_type": "code",
   "execution_count": 17,
   "metadata": {
    "collapsed": true
   },
   "outputs": [],
   "source": [
    "model.save_weights('model.h5')"
   ]
  },
  {
   "cell_type": "markdown",
   "metadata": {},
   "source": [
    "#### Now load SVHN dataset"
   ]
  },
  {
   "cell_type": "code",
   "execution_count": 5,
   "metadata": {
    "collapsed": true
   },
   "outputs": [],
   "source": [
    "train = scipy.io.loadmat('train_32x32.mat')\n",
    "test  = scipy.io.loadmat('test_32x32.mat')"
   ]
  },
  {
   "cell_type": "code",
   "execution_count": 6,
   "metadata": {
    "collapsed": true
   },
   "outputs": [],
   "source": [
    "train['X'] = train['X'][np.newaxis,...]\n",
    "train_data = np.swapaxes(train['X'],0,4).squeeze()\n",
    "\n",
    "test['X'] = test['X'][np.newaxis,...]\n",
    "test_data = np.swapaxes(test['X'],0,4).squeeze()"
   ]
  },
  {
   "cell_type": "code",
   "execution_count": 7,
   "metadata": {
    "collapsed": true
   },
   "outputs": [],
   "source": [
    "train_data = train_data.astype('float32')\n",
    "test_data = test_data.astype('float32')\n",
    "\n",
    "train_data /= 255.0\n",
    "test_data /= 255.0"
   ]
  },
  {
   "cell_type": "code",
   "execution_count": 8,
   "metadata": {
    "collapsed": true
   },
   "outputs": [],
   "source": [
    "def rgb2gray(rgb):\n",
    "    return np.dot(rgb[...,:3], [0.299, 0.587, 0.114])"
   ]
  },
  {
   "cell_type": "code",
   "execution_count": 21,
   "metadata": {
    "collapsed": true
   },
   "outputs": [],
   "source": [
    "X_train = np.zeros((73257, 32, 32))\n",
    "for i in range(train_data.shape[0]):\n",
    "    X_train[i] = rgb2gray(train_data[i])"
   ]
  },
  {
   "cell_type": "code",
   "execution_count": 10,
   "metadata": {
    "collapsed": true
   },
   "outputs": [],
   "source": [
    "X_test = np.zeros((26032, 32, 32))\n",
    "for i in range(test_data.shape[0]):\n",
    "    X_test[i] = rgb2gray(test_data[i])"
   ]
  },
  {
   "cell_type": "code",
   "execution_count": 13,
   "metadata": {
    "collapsed": true
   },
   "outputs": [],
   "source": [
    "import cv2"
   ]
  },
  {
   "cell_type": "code",
   "execution_count": 22,
   "metadata": {
    "collapsed": true
   },
   "outputs": [],
   "source": [
    "X_train_ = np.zeros((73257, 28, 28))\n",
    "for i in range(train_data.shape[0]):\n",
    "    X_train_[i] = cv2.resize(X_train[i],(28,28))"
   ]
  },
  {
   "cell_type": "code",
   "execution_count": 50,
   "metadata": {
    "collapsed": true
   },
   "outputs": [],
   "source": [
    "X_test_ = np.zeros((26032, 28, 28))\n",
    "for i in range(test_data.shape[0]):\n",
    "    X_test_[i] = cv2.resize(X_test[i],(28,28))"
   ]
  },
  {
   "cell_type": "code",
   "execution_count": 51,
   "metadata": {},
   "outputs": [],
   "source": [
    "X_train_ = X_train_.reshape(X_train_.shape[0],28, 28, 1)\n",
    "X_test_ = X_test_.reshape(X_test_.shape[0], 28, 28, 1)"
   ]
  },
  {
   "cell_type": "code",
   "execution_count": 32,
   "metadata": {},
   "outputs": [
    {
     "data": {
      "image/png": "[encoded data removed]",
      "text/plain": [
       "<matplotlib.figure.Figure at 0x2d2c48f5f8>"
      ]
     },
     "metadata": {},
     "output_type": "display_data"
    },
    {
     "data": {
      "image/png": "[encoded data removed]",
      "text/plain": [
       "<matplotlib.figure.Figure at 0x2d6c41a048>"
      ]
     },
     "metadata": {},
     "output_type": "display_data"
    },
    {
     "data": {
      "image/png": "[encoded data removed]",
      "text/plain": [
       "<matplotlib.figure.Figure at 0x2d6c45f5c0>"
      ]
     },
     "metadata": {},
     "output_type": "display_data"
    },
    {
     "data": {
      "image/png": "[encoded data removed]",
      "text/plain": [
       "<matplotlib.figure.Figure at 0x2d6d556780>"
      ]
     },
     "metadata": {},
     "output_type": "display_data"
    },
    {
     "data": {
      "image/png": "[encoded data removed]",
      "text/plain": [
       "<matplotlib.figure.Figure at 0x2d6d731048>"
      ]
     },
     "metadata": {},
     "output_type": "display_data"
    }
   ],
   "source": [
    "for i in range(5):\n",
    "    plt.subplot(221)\n",
    "    plt.imshow(X_train_[i].reshape(28,28),cmap=plt.get_cmap('gray'))\n",
    "    plt.show()history = model.fit(X_train, y_train, batch_size=128, epochs=10, verbose=1, validation_split=0.2)"
   ]
  },
  {
   "cell_type": "code",
   "execution_count": 27,
   "metadata": {
    "collapsed": true
   },
   "outputs": [],
   "source": [
    "y_train = keras.utils.to_categorical(train['y'][:,0])[:,1:]\n",
    "y_test = keras.utils.to_categorical(test['y'][:,0])[:,1:]"
   ]
  },
  {
   "cell_type": "code",
   "execution_count": 11,
   "metadata": {
    "collapsed": true
   },
   "outputs": [],
   "source": [
    "# list all the layer names which are in the model.\n",
    "layer_names = [layer.name for layer in model.layers]"
   ]
  },
  {
   "cell_type": "code",
   "execution_count": 12,
   "metadata": {},
   "outputs": [
    {
     "data": {
      "text/plain": [
       "['conv2d_1',\n",
       " 'activation_1',\n",
       " 'max_pooling2d_1',\n",
       " 'conv2d_2',\n",
       " 'activation_2',\n",
       " 'max_pooling2d_2',\n",
       " 'dropout_1',\n",
       " 'flatten_1',\n",
       " 'dense_1',\n",
       " 'activation_3',\n",
       " 'dropout_2',\n",
       " 'dense_2',\n",
       " 'activation_4']"
      ]
     },
     "execution_count": 12,
     "metadata": {},
     "output_type": "execute_result"
    }
   ],
   "source": [
    "layer_names"
   ]
  },
  {
   "cell_type": "code",
   "execution_count": 56,
   "metadata": {
    "collapsed": true
   },
   "outputs": [],
   "source": [
    "model.load_weights('model.h5')"
   ]
  },
  {
   "cell_type": "code",
   "execution_count": 58,
   "metadata": {
    "collapsed": true
   },
   "outputs": [],
   "source": [
    "adam = Adam(decay=1e-6)\n",
    "model.compile(loss='categorical_crossentropy', optimizer=adam , metrics=['accuracy'])"
   ]
  },
  {
   "cell_type": "code",
   "execution_count": 59,
   "metadata": {},
   "outputs": [
    {
     "name": "stdout",
     "output_type": "stream",
     "text": [
      "Train on 58605 samples, validate on 14652 samples\n",
      "Epoch 1/15\n",
      "58605/58605 [==============================] - 113s - loss: 1.1718 - acc: 0.6221 - val_loss: 0.6393 - val_acc: 0.8136\n",
      "Epoch 2/15\n",
      "58605/58605 [==============================] - 112s - loss: 0.6376 - acc: 0.8082 - val_loss: 0.4815 - val_acc: 0.8665\n",
      "Epoch 3/15\n",
      "58605/58605 [==============================] - 110s - loss: 0.5346 - acc: 0.8387 - val_loss: 0.4335 - val_acc: 0.8761\n",
      "Epoch 4/15\n",
      "58605/58605 [==============================] - 110s - loss: 0.4813 - acc: 0.8551 - val_loss: 0.4059 - val_acc: 0.8825\n",
      "Epoch 5/15\n",
      "58605/58605 [==============================] - 111s - loss: 0.4446 - acc: 0.8652 - val_loss: 0.3785 - val_acc: 0.8900\n",
      "Epoch 6/15\n",
      "58605/58605 [==============================] - 111s - loss: 0.4083 - acc: 0.8767 - val_loss: 0.3642 - val_acc: 0.8948\n",
      "Epoch 7/15\n",
      "58605/58605 [==============================] - 111s - loss: 0.3806 - acc: 0.8838 - val_loss: 0.3490 - val_acc: 0.8974\n",
      "Epoch 8/15\n",
      "58605/58605 [==============================] - 111s - loss: 0.3539 - acc: 0.8931 - val_loss: 0.3368 - val_acc: 0.9046\n",
      "Epoch 9/15\n",
      "58605/58605 [==============================] - 111s - loss: 0.3397 - acc: 0.8979 - val_loss: 0.3244 - val_acc: 0.9057\n",
      "Epoch 10/15\n",
      "58605/58605 [==============================] - 112s - loss: 0.3212 - acc: 0.9016 - val_loss: 0.3149 - val_acc: 0.9096\n",
      "Epoch 11/15\n",
      "58605/58605 [==============================] - 113s - loss: 0.3025 - acc: 0.9071 - val_loss: 0.3240 - val_acc: 0.9055\n",
      "Epoch 12/15\n",
      "58605/58605 [==============================] - 111s - loss: 0.2916 - acc: 0.9096 - val_loss: 0.3138 - val_acc: 0.9116\n",
      "Epoch 13/15\n",
      "58605/58605 [==============================] - 112s - loss: 0.2758 - acc: 0.9145 - val_loss: 0.3075 - val_acc: 0.9140\n",
      "Epoch 14/15\n",
      "58605/58605 [==============================] - 111s - loss: 0.2646 - acc: 0.9179 - val_loss: 0.3190 - val_acc: 0.9092\n",
      "Epoch 15/15\n",
      "58605/58605 [==============================] - 111s - loss: 0.2524 - acc: 0.9218 - val_loss: 0.3018 - val_acc: 0.9142\n"
     ]
    }
   ],
   "source": [
    "history = model.fit(X_train_, y_train, batch_size=128, epochs=15, verbose=1, validation_split=0.2)"
   ]
  },
  {
   "cell_type": "code",
   "execution_count": 60,
   "metadata": {},
   "outputs": [
    {
     "name": "stdout",
     "output_type": "stream",
     "text": [
      "loss: 0.332295299161\n",
      "Test accuracy: 0.909572833436\n"
     ]
    }
   ],
   "source": [
    "score = model.evaluate(X_test_, y_test, verbose=0)\n",
    "print('loss:', score[0])\n",
    "print('Test accuracy:', score[1])\n"
   ]
  },
  {
   "cell_type": "code",
   "execution_count": 61,
   "metadata": {},
   "outputs": [
    {
     "data": {
      "image/png": "[encoded data removed]",
      "text/plain": [
       "<matplotlib.figure.Figure at 0x2d08c76e10>"
      ]
     },
     "metadata": {},
     "output_type": "display_data"
    },
    {
     "data": {
      "image/png": "[encoded data removed]",
      "text/plain": [
       "<matplotlib.figure.Figure at 0x2cfd64ff28>"
      ]
     },
     "metadata": {},
     "output_type": "display_data"
    }
   ],
   "source": [
    "# summarize history for accuracy\n",
    "plt.plot(history.history['acc'])\n",
    "plt.plot(history.history['val_acc'])\n",
    "plt.title('model accuracy')\n",
    "plt.ylabel('accuracy')\n",
    "plt.xlabel('epoch')\n",
    "plt.legend(['train', 'test'], loc='upper left')\n",
    "plt.show()\n",
    "\n",
    "# summarize history for loss\n",
    "plt.plot(history.history['loss'])\n",
    "plt.plot(history.history['val_loss'])\n",
    "plt.title('model loss')\n",
    "plt.ylabel('loss')\n",
    "plt.xlabel('epoch')\n",
    "plt.legend(['train', 'test'], loc='upper left')\n",
    "plt.show()"
   ]
  },
  {
   "cell_type": "code",
   "execution_count": null,
   "metadata": {
    "collapsed": true
   },
   "outputs": [],
   "source": []
  }
 ],
 "metadata": {
  "kernelspec": {
   "display_name": "Python 3",
   "language": "python",
   "name": "python3"
  },
  "language_info": {
   "codemirror_mode": {
    "name": "ipython",
    "version": 3
   },
   "file_extension": ".py",
   "mimetype": "text/x-python",
   "name": "python",
   "nbconvert_exporter": "python",
   "pygments_lexer": "ipython3",
   "version": "3.6.1"
  }
 },
 "nbformat": 4,
 "nbformat_minor": 2
}
