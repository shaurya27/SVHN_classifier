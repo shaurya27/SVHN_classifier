{
 "cells": [
  {
   "cell_type": "markdown",
   "metadata": {},
   "source": [
    "### Let's try data Augmentation"
   ]
  },
  {
   "cell_type": "code",
   "execution_count": 1,
   "metadata": {
    "collapsed": true
   },
   "outputs": [],
   "source": [
    "import numpy as np\n",
    "import pandas as pd\n",
    "import matplotlib.pyplot as plt\n",
    "%matplotlib inline\n",
    "import scipy.io"
   ]
  },
  {
   "cell_type": "code",
   "execution_count": 2,
   "metadata": {
    "collapsed": true
   },
   "outputs": [],
   "source": [
    "train = scipy.io.loadmat('train_32x32.mat')\n",
    "test  = scipy.io.loadmat('test_32x32.mat')"
   ]
  },
  {
   "cell_type": "code",
   "execution_count": 3,
   "metadata": {
    "collapsed": true
   },
   "outputs": [],
   "source": [
    "train['X'] = train['X'][np.newaxis,...]\n",
    "train_data = np.swapaxes(train['X'],0,4).squeeze()\n",
    "\n",
    "test['X'] = test['X'][np.newaxis,...]\n",
    "test_data = np.swapaxes(test['X'],0,4).squeeze()"
   ]
  },
  {
   "cell_type": "code",
   "execution_count": 4,
   "metadata": {
    "collapsed": true
   },
   "outputs": [],
   "source": [
    "train_data = train_data.astype('float32')\n",
    "test_data = test_data.astype('float32')\n",
    "\n",
    "train_data /= 255.0\n",
    "test_data /= 255.0"
   ]
  },
  {
   "cell_type": "markdown",
   "metadata": {},
   "source": [
    "##### convert rgb to grayscale"
   ]
  },
  {
   "cell_type": "code",
   "execution_count": 5,
   "metadata": {
    "collapsed": true
   },
   "outputs": [],
   "source": [
    "def rgb2gray(rgb):\n",
    "    return np.dot(rgb[...,:3], [0.299, 0.587, 0.114])\n",
    "\n",
    "X_train = np.zeros((73257, 32, 32))\n",
    "for i in range(train_data.shape[0]):\n",
    "    X_train[i] = rgb2gray(train_data[i])\n",
    "    \n",
    "X_test = np.zeros((26032, 32, 32))\n",
    "for i in range(test_data.shape[0]):\n",
    "    X_test[i] = rgb2gray(test_data[i])"
   ]
  },
  {
   "cell_type": "code",
   "execution_count": 6,
   "metadata": {
    "collapsed": true
   },
   "outputs": [],
   "source": [
    "X_train = X_train.reshape(X_train.shape[0],32, 32, 1)\n",
    "X_test = X_test.reshape(X_test.shape[0], 32, 32, 1)"
   ]
  },
  {
   "cell_type": "markdown",
   "metadata": {},
   "source": [
    "----------------------------------"
   ]
  },
  {
   "cell_type": "code",
   "execution_count": 18,
   "metadata": {
    "collapsed": true
   },
   "outputs": [],
   "source": [
    "import keras\n",
    "from keras.layers import Conv2D, MaxPooling2D, Flatten\n",
    "from keras.models import Sequential\n",
    "from keras.layers import Dense, Dropout, Activation\n",
    "from keras.optimizers import Adam\n",
    "from keras.preprocessing.image import ImageDataGenerator"
   ]
  },
  {
   "cell_type": "markdown",
   "metadata": {},
   "source": [
    "---------------------------"
   ]
  },
  {
   "cell_type": "code",
   "execution_count": 19,
   "metadata": {
    "collapsed": true
   },
   "outputs": [],
   "source": [
    "y_train = keras.utils.to_categorical(train['y'][:,0])[:,1:]\n",
    "y_test = keras.utils.to_categorical(test['y'][:,0])[:,1:]"
   ]
  },
  {
   "cell_type": "markdown",
   "metadata": {},
   "source": [
    "--------------------------"
   ]
  },
  {
   "cell_type": "code",
   "execution_count": 24,
   "metadata": {},
   "outputs": [
    {
     "name": "stdout",
     "output_type": "stream",
     "text": [
      "Augmenting training set images...\n"
     ]
    }
   ],
   "source": [
    "print(\"Augmenting training set images...\")\n",
    "datagen = ImageDataGenerator(\n",
    "width_shift_range=0.2,\n",
    "height_shift_range=0.15,\n",
    "shear_range=0.4,\n",
    "zoom_range=[1.0,1.6],)"
   ]
  },
  {
   "cell_type": "markdown",
   "metadata": {},
   "source": [
    "-------------------------------"
   ]
  },
  {
   "cell_type": "code",
   "execution_count": 25,
   "metadata": {},
   "outputs": [
    {
     "name": "stdout",
     "output_type": "stream",
     "text": [
      "_________________________________________________________________\n",
      "Layer (type)                 Output Shape              Param #   \n",
      "=================================================================\n",
      "conv2d_13 (Conv2D)           (None, 32, 32, 32)        320       \n",
      "_________________________________________________________________\n",
      "activation_21 (Activation)   (None, 32, 32, 32)        0         \n",
      "_________________________________________________________________\n",
      "max_pooling2d_9 (MaxPooling2 (None, 16, 16, 32)        0         \n",
      "_________________________________________________________________\n",
      "dropout_10 (Dropout)         (None, 16, 16, 32)        0         \n",
      "_________________________________________________________________\n",
      "conv2d_14 (Conv2D)           (None, 16, 16, 64)        18496     \n",
      "_________________________________________________________________\n",
      "activation_22 (Activation)   (None, 16, 16, 64)        0         \n",
      "_________________________________________________________________\n",
      "conv2d_15 (Conv2D)           (None, 16, 16, 64)        36928     \n",
      "_________________________________________________________________\n",
      "activation_23 (Activation)   (None, 16, 16, 64)        0         \n",
      "_________________________________________________________________\n",
      "max_pooling2d_10 (MaxPooling (None, 8, 8, 64)          0         \n",
      "_________________________________________________________________\n",
      "dropout_11 (Dropout)         (None, 8, 8, 64)          0         \n",
      "_________________________________________________________________\n",
      "flatten_5 (Flatten)          (None, 4096)              0         \n",
      "_________________________________________________________________\n",
      "dense_9 (Dense)              (None, 256)               1048832   \n",
      "_________________________________________________________________\n",
      "activation_24 (Activation)   (None, 256)               0         \n",
      "_________________________________________________________________\n",
      "dropout_12 (Dropout)         (None, 256)               0         \n",
      "_________________________________________________________________\n",
      "dense_10 (Dense)             (None, 10)                2570      \n",
      "_________________________________________________________________\n",
      "activation_25 (Activation)   (None, 10)                0         \n",
      "=================================================================\n",
      "Total params: 1,107,146\n",
      "Trainable params: 1,107,146\n",
      "Non-trainable params: 0\n",
      "_________________________________________________________________\n"
     ]
    }
   ],
   "source": [
    "model5 = Sequential()\n",
    "model5.add(Conv2D(32, (3,3), strides=(1,1), padding='same', input_shape=(32,32,1)))\n",
    "model5.add(Activation('relu'))\n",
    "model5.add(MaxPooling2D(pool_size=(2,2), strides=(2,2)))\n",
    "model5.add(Dropout(0.35))\n",
    "model5.add(Conv2D(64, (3,3), strides=(1,1),padding='same'))\n",
    "model5.add(Activation('relu'))\n",
    "model5.add(Conv2D(64, (3,3), strides=(1,1),padding='same'))\n",
    "model5.add(Activation('relu'))\n",
    "model5.add(MaxPooling2D(pool_size=(2,2), padding='same', strides=(2,2)))\n",
    "model5.add(Dropout(0.35))\n",
    "model5.add(Flatten())\n",
    "model5.add(Dense(256))\n",
    "model5.add(Activation('relu'))\n",
    "model5.add(Dropout(0.35))\n",
    "model5.add(Dense(10))\n",
    "model5.add(Activation('softmax'))\n",
    "model5.summary()"
   ]
  },
  {
   "cell_type": "code",
   "execution_count": 26,
   "metadata": {
    "collapsed": true
   },
   "outputs": [],
   "source": [
    "adam = Adam(decay=1e-6)\n",
    "model5.compile(loss='categorical_crossentropy', optimizer=adam , metrics=['accuracy'])"
   ]
  },
  {
   "cell_type": "code",
   "execution_count": 27,
   "metadata": {},
   "outputs": [
    {
     "name": "stdout",
     "output_type": "stream",
     "text": [
      "Epoch 1/15\n",
      "573/572 [==============================] - 418s - loss: 1.8468 - acc: 0.3546   \n",
      "Epoch 2/15\n",
      "573/572 [==============================] - 415s - loss: 1.2580 - acc: 0.5822   \n",
      "Epoch 3/15\n",
      "573/572 [==============================] - 411s - loss: 1.0630 - acc: 0.6544   \n",
      "Epoch 4/15\n",
      "573/572 [==============================] - 411s - loss: 0.9587 - acc: 0.6900   \n",
      "Epoch 5/15\n",
      "573/572 [==============================] - 415s - loss: 0.8920 - acc: 0.7138   \n",
      "Epoch 6/15\n",
      "573/572 [==============================] - 417s - loss: 0.8341 - acc: 0.7307   \n",
      "Epoch 7/15\n",
      "573/572 [==============================] - 414s - loss: 0.7884 - acc: 0.7472   \n",
      "Epoch 8/15\n",
      "573/572 [==============================] - 413s - loss: 0.7557 - acc: 0.7590   \n",
      "Epoch 9/15\n",
      "573/572 [==============================] - 412s - loss: 0.7224 - acc: 0.7725   \n",
      "Epoch 10/15\n",
      "573/572 [==============================] - 413s - loss: 0.6985 - acc: 0.7788   \n",
      "Epoch 11/15\n",
      "573/572 [==============================] - 412s - loss: 0.6798 - acc: 0.7853   \n",
      "Epoch 12/15\n",
      "573/572 [==============================] - 415s - loss: 0.6622 - acc: 0.7931   \n",
      "Epoch 13/15\n",
      "573/572 [==============================] - 471s - loss: 0.6467 - acc: 0.7969   \n",
      "Epoch 14/15\n",
      "573/572 [==============================] - 1358s - loss: 0.6339 - acc: 0.8009  \n",
      "Epoch 15/15\n",
      "573/572 [==============================] - 513s - loss: 0.6222 - acc: 0.8050   \n"
     ]
    }
   ],
   "source": [
    "history = model.fit_generator(datagen.flow(X_train, y_train, batch_size=128), steps_per_epoch= (X_train.shape[0]/128), epochs= 15, verbose= 1)"
   ]
  },
  {
   "cell_type": "code",
   "execution_count": 28,
   "metadata": {},
   "outputs": [
    {
     "name": "stdout",
     "output_type": "stream",
     "text": [
      "loss: 0.288844556523\n",
      "Test accuracy: 0.923632452366\n"
     ]
    }
   ],
   "source": [
    "score5 = model5.evaluate(X_test, y_test, verbose=0)\n",
    "print('loss:', score5[0])\n",
    "print('Test accuracy:', score5[1])"
   ]
  },
  {
   "cell_type": "code",
   "execution_count": null,
   "metadata": {
    "collapsed": true
   },
   "outputs": [],
   "source": []
  }
 ],
 "metadata": {
  "kernelspec": {
   "display_name": "Python 3",
   "language": "python",
   "name": "python3"
  },
  "language_info": {
   "codemirror_mode": {
    "name": "ipython",
    "version": 3
   },
   "file_extension": ".py",
   "mimetype": "text/x-python",
   "name": "python",
   "nbconvert_exporter": "python",
   "pygments_lexer": "ipython3",
   "version": "3.6.1"
  }
 },
 "nbformat": 4,
 "nbformat_minor": 2
}
